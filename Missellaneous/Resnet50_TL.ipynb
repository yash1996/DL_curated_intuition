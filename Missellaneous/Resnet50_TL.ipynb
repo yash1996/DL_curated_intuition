{
 "cells": [
  {
   "cell_type": "code",
   "execution_count": 1,
   "metadata": {},
   "outputs": [],
   "source": [
    "from tqdm import tqdm ,trange# for progress bar \n",
    "import os,sys,requests \n",
    "from concurrent.futures import ProcessPoolExecutor ,as_completed # Asynchronous Execution\n",
    "import numpy as np \n",
    "import matplotlib.pyplot as plt\n",
    "from pathlib import Path\n",
    "import re\n",
    "from pprint import pprint \n",
    "\n",
    "\n",
    "import torch\n",
    "from torch import nn\n",
    "import torch.nn.functional  as F\n",
    "from torch.utils.data import Dataset , DataLoader\n",
    "\n",
    "import torchvision\n",
    "from torchvision import transforms ,models"
   ]
  },
  {
   "cell_type": "code",
   "execution_count": 2,
   "metadata": {},
   "outputs": [
    {
     "name": "stdout",
     "output_type": "stream",
     "text": [
      "Archive:  Birds.zip\n",
      "   creating: Birds/\n",
      "  inflating: Birds/Asian Paradise Flycatcher.csv  \n",
      "  inflating: Birds/Himalayan Monal.csv  \n",
      "  inflating: Birds/Indian Pitta.csv  \n",
      "  inflating: Birds/Mrs. Gould’s Sunbird.csv  \n",
      "  inflating: Birds/Oriental Dwarf Kingfisher.csv  \n",
      "  inflating: Birds/Red Headed Trogon.csv  \n",
      "  inflating: Birds/Sarus Crane.csv   \n",
      "  inflating: Birds/Satyr Tragopan.csv  \n",
      "  inflating: Birds/parrot.csv        \n",
      "  inflating: Birds/peacock.csv       \n",
      "total 620\n",
      "-rw-rw-r-- 1 ubuntu ubuntu 61740 Nov  3  2018 'Asian Paradise Flycatcher.csv'\n",
      "-rw-rw-r-- 1 ubuntu ubuntu 48812 Nov  3  2018 'Himalayan Monal.csv'\n",
      "-rw-rw-r-- 1 ubuntu ubuntu 60080 Nov  3  2018 'Indian Pitta.csv'\n",
      "-rw-rw-r-- 1 ubuntu ubuntu 54367 Nov  3  2018 'Mrs. Gould’s Sunbird.csv'\n",
      "-rw-rw-r-- 1 ubuntu ubuntu 59841 Nov  3  2018 'Oriental Dwarf Kingfisher.csv'\n",
      "-rw-rw-r-- 1 ubuntu ubuntu 55118 Nov  3  2018 'Red Headed Trogon.csv'\n",
      "-rw-rw-r-- 1 ubuntu ubuntu 58170 Nov  3  2018 'Sarus Crane.csv'\n",
      "-rw-rw-r-- 1 ubuntu ubuntu 51467 Nov  3  2018 'Satyr Tragopan.csv'\n",
      "-rw-rw-r-- 1 ubuntu ubuntu 85959 Nov  3  2018  parrot.csv\n",
      "-rw-rw-r-- 1 ubuntu ubuntu 77909 Nov  3  2018  peacock.csv\n"
     ]
    }
   ],
   "source": [
    "!unzip Birds.zip\n",
    "!ls -l Birds"
   ]
  },
  {
   "cell_type": "code",
   "execution_count": 3,
   "metadata": {},
   "outputs": [],
   "source": [
    "def download_url(url:str, dest:str, overwrite:bool=False, chunk_size=1024*1024, timeout=4):\n",
    "    \"Download `url` to `dest` unless it exists and not `overwrite`.\"\n",
    "    if os.path.exists(dest) and not overwrite: return\n",
    "\n",
    "    u = requests.get(url, stream=True, timeout=timeout)\n",
    "    try: file_size = int(u.headers[\"Content-Length\"])\n",
    "    except: pass\n",
    "        \n",
    "    with open(dest, 'wb') as f:\n",
    "        for chunk in u.iter_content(chunk_size=chunk_size):\n",
    "            f.write(chunk)\n",
    "\n",
    "def download_images(urls:str, dest:Path, max_pics:int=1000, max_workers:int=8, timeout=4,prefix=None,show_progress=True):\n",
    "    \"Download images listed in text file urls to path dest , at most max_pics\"\n",
    "    urls = open(urls).read().strip().split(\"\\n\")[:max_pics] # get all the urls in the list\n",
    "    dest = Path(dest) # get the path of the folder \n",
    "    dest.mkdir(exist_ok=True) # create all the parent and child directory if neccessary. \n",
    "\n",
    "    if max_workers: # use the power of multiprocessing\n",
    "        with ProcessPoolExecutor(max_workers=max_workers) as ex: # use a ProcessPoolExecutor for using pool of process to execute call asynchronously.\n",
    "             # submit schedules the callable and return a Future object on completion. We iterate through all the urls to create Future objects for each url \n",
    "            futures = [ex.submit(download_url, url, dest/f\"{i:08d}.jpg\", timeout=timeout) for i,url in enumerate(urls)]\n",
    "            if show_progress : \n",
    "                for f in tqdm(as_completed(futures), total=len(urls),desc=prefix): pass # show th progress bar"
   ]
  },
  {
   "cell_type": "code",
   "execution_count": 4,
   "metadata": {},
   "outputs": [
    {
     "data": {
      "text/plain": [
       "[PosixPath('Birds/Himalayan Monal.csv'),\n",
       " PosixPath('Birds/Red Headed Trogon.csv'),\n",
       " PosixPath('Birds/Mrs. Gould’s Sunbird.csv'),\n",
       " PosixPath('Birds/Oriental Dwarf Kingfisher.csv'),\n",
       " PosixPath('Birds/Indian Pitta.csv'),\n",
       " PosixPath('Birds/Sarus Crane.csv'),\n",
       " PosixPath('Birds/Asian Paradise Flycatcher.csv'),\n",
       " PosixPath('Birds/Satyr Tragopan.csv'),\n",
       " PosixPath('Birds/parrot.csv'),\n",
       " PosixPath('Birds/peacock.csv')]"
      ]
     },
     "execution_count": 4,
     "metadata": {},
     "output_type": "execute_result"
    }
   ],
   "source": [
    "# get the path for all csv files\n",
    "birdspath = Path(\"Birds\")\n",
    "birdspath = [ Path(child) for child in birdspath.iterdir()]\n",
    "birdspath"
   ]
  },
  {
   "cell_type": "code",
   "execution_count": 5,
   "metadata": {},
   "outputs": [
    {
     "name": "stdout",
     "output_type": "stream",
     "text": [
      "['HimalayanMonal',\n",
      " 'RedHeadedTrogon',\n",
      " 'MrsGould’sSunbird',\n",
      " 'OrientalDwarfKingfisher',\n",
      " 'IndianPitta',\n",
      " 'SarusCrane',\n",
      " 'AsianParadiseFlycatcher',\n",
      " 'SatyrTragopan',\n",
      " 'parrot',\n",
      " 'peacock']\n",
      "{'AsianParadiseFlycatcher': PosixPath('Birds/Asian Paradise Flycatcher.csv'),\n",
      " 'HimalayanMonal': PosixPath('Birds/Himalayan Monal.csv'),\n",
      " 'IndianPitta': PosixPath('Birds/Indian Pitta.csv'),\n",
      " 'MrsGould’sSunbird': PosixPath('Birds/Mrs. Gould’s Sunbird.csv'),\n",
      " 'OrientalDwarfKingfisher': PosixPath('Birds/Oriental Dwarf Kingfisher.csv'),\n",
      " 'RedHeadedTrogon': PosixPath('Birds/Red Headed Trogon.csv'),\n",
      " 'SarusCrane': PosixPath('Birds/Sarus Crane.csv'),\n",
      " 'SatyrTragopan': PosixPath('Birds/Satyr Tragopan.csv'),\n",
      " 'parrot': PosixPath('Birds/parrot.csv'),\n",
      " 'peacock': PosixPath('Birds/peacock.csv')}\n"
     ]
    }
   ],
   "source": [
    "all_birds_Name = [re.sub(r\".csv|\\.\\s|\\s*|\\’\" , r\"\", x.name) for x in birdspath] # Get all the birds name from the csv file\n",
    "pprint(all_birds_Name)\n",
    "folder_file = {x:y for x ,y in zip(all_birds_Name , birdspath)} # create a folder name the file name dictionary \n",
    "pprint(folder_file)"
   ]
  },
  {
   "cell_type": "code",
   "execution_count": 6,
   "metadata": {},
   "outputs": [
    {
     "name": "stderr",
     "output_type": "stream",
     "text": [
      "HimalayanMonal: 100%|██████████| 512/512 [00:19<00:00, 25.78it/s]\n",
      "RedHeadedTrogon: 100%|██████████| 585/585 [00:22<00:00, 25.48it/s]\n",
      "MrsGould’sSunbird: 100%|██████████| 550/550 [00:17<00:00,  8.56it/s]\n",
      "OrientalDwarfKingfisher: 100%|██████████| 546/546 [00:16<00:00, 33.65it/s]\n",
      "IndianPitta: 100%|██████████| 648/648 [00:25<00:00,  2.15it/s]\n",
      "SarusCrane: 100%|██████████| 609/609 [00:20<00:00, 30.22it/s]\n",
      "AsianParadiseFlycatcher: 100%|██████████| 634/634 [00:22<00:00,  4.61it/s]\n",
      "SatyrTragopan: 100%|██████████| 544/544 [00:19<00:00, 27.70it/s]\n",
      "parrot: 100%|██████████| 847/847 [00:28<00:00, 29.92it/s]\n",
      "peacock: 100%|██████████| 810/810 [00:45<00:00,  3.62s/it]\n"
     ]
    }
   ],
   "source": [
    "for folder,file in folder_file.items():\n",
    "    path = Path(\"train\") # create a parent directory   \n",
    "    dest = path/folder # Specific folder for each bird\n",
    "    dest.mkdir(parents=True,exist_ok=True)\n",
    "    download_images(file, dest,prefix=folder,max_workers=16)"
   ]
  },
  {
   "cell_type": "code",
   "execution_count": 7,
   "metadata": {},
   "outputs": [
    {
     "data": {
      "text/plain": [
       "[('HimalayanMonal', 500),\n",
       " ('SatyrTragopan', 530),\n",
       " ('OrientalDwarfKingfisher', 532),\n",
       " ('MrsGould’sSunbird', 543),\n",
       " ('RedHeadedTrogon', 577),\n",
       " ('SarusCrane', 601),\n",
       " ('AsianParadiseFlycatcher', 627),\n",
       " ('IndianPitta', 635),\n",
       " ('peacock', 796),\n",
       " ('parrot', 823)]"
      ]
     },
     "execution_count": 7,
     "metadata": {},
     "output_type": "execute_result"
    }
   ],
   "source": [
    "length = lambda iterrator : len(tuple(iterrator))\n",
    "birdsPerClassCount = { (path/folder).name : length((path/folder).iterdir()) for folder,file in folder_file.items() }\n",
    "sorted(birdsPerClassCount.items() , key=lambda x :x[1])"
   ]
  },
  {
   "cell_type": "code",
   "execution_count": 8,
   "metadata": {},
   "outputs": [],
   "source": [
    "import PIL\n",
    "def verify_image(file:Path, delete:bool ,dest:Path=None, n_channels:int=3, **kwargs):\n",
    "    \"\"\"Check if the image in `file` exists, can be opend and has `n_channels`. If `delete`, removes it if it fails.\n",
    "        Result is stored in `dest` `img_format` and `kwargs` are passed to PIL.Image.save.\"\"\"\n",
    "    try:\n",
    "        img = PIL.Image.open(file)\n",
    "        assert isinstance(dest, Path), \"You should provide `dest` Path to save resized image\"\n",
    "        if not file.is_file(): return\n",
    "        if n_channels == 3: img = img.convert(\"RGB\")\n",
    "        img.save(file, **kwargs)\n",
    "        img = np.array(img)\n",
    "        img_channels = 1 if len(img.shape) == 2 else img.shape[2]\n",
    "        assert img_channels == n_channels, f\"Image {file} has {img_channels} instead of {n_channels}\"\n",
    "    except Exception as e:\n",
    "        #print(f'{e}')\n",
    "        if delete: file.unlink()\n",
    "\n",
    "def verify_images(path:Path, delete:bool=True, max_workers:int=4 , dest:Path=\".\",n_channels:int=3,**kwargs):\n",
    "    \"\"\"Check if the image in `path` exists, can be opened and has `n_channels`.\n",
    "    If `n_channels` is 3 – it'll try to convert image to RGB. If `delete`, removes it if it fails.\n",
    "    If `max_size` is specifided,\n",
    "    image is resized to the same ratio so that both sizes are less than `max_size`, using `interp`.\n",
    "    Result is stored in `dest`, `ext` forces an extension type, `img_format` and `kwargs` are\n",
    "    passed to PIL.Image.save. Use `max_workers` CPUs.\"\"\"\n",
    "    dest = path/Path(dest)\n",
    "    dest.mkdir(exist_ok=True)\n",
    "    with ProcessPoolExecutor(max_workers=max_workers) as ex:\n",
    "        files = [Path(file) for file in path.iterdir()]\n",
    "        futures = [ex.submit(verify_image, file, delete=delete,dest=dest, n_channels=n_channels, **kwargs) for file in files]\n",
    "    for f in tqdm(as_completed(futures), total=len(files) , desc=path.name): pass\n",
    "    \n"
   ]
  },
  {
   "cell_type": "code",
   "execution_count": 9,
   "metadata": {},
   "outputs": [
    {
     "name": "stderr",
     "output_type": "stream",
     "text": [
      "HimalayanMonal: 100%|██████████| 500/500 [00:00<00:00, 232319.93it/s]\n",
      "/home/ubuntu/instoried/lib/python3.6/site-packages/PIL/Image.py:993: UserWarning: Palette images with Transparency expressed in bytes should be converted to RGBA images\n",
      "  \"Palette images with Transparency expressed in bytes should be \"\n",
      "RedHeadedTrogon: 100%|██████████| 577/577 [00:00<00:00, 238528.82it/s]\n",
      "/home/ubuntu/instoried/lib/python3.6/site-packages/PIL/Image.py:993: UserWarning: Palette images with Transparency expressed in bytes should be converted to RGBA images\n",
      "  \"Palette images with Transparency expressed in bytes should be \"\n",
      "MrsGould’sSunbird: 100%|██████████| 543/543 [00:00<00:00, 241927.67it/s]\n",
      "OrientalDwarfKingfisher: 100%|██████████| 532/532 [00:00<00:00, 232968.23it/s]\n",
      "/home/ubuntu/instoried/lib/python3.6/site-packages/PIL/Image.py:993: UserWarning: Palette images with Transparency expressed in bytes should be converted to RGBA images\n",
      "  \"Palette images with Transparency expressed in bytes should be \"\n",
      "/home/ubuntu/instoried/lib/python3.6/site-packages/PIL/Image.py:993: UserWarning: Palette images with Transparency expressed in bytes should be converted to RGBA images\n",
      "  \"Palette images with Transparency expressed in bytes should be \"\n",
      "/home/ubuntu/instoried/lib/python3.6/site-packages/PIL/Image.py:993: UserWarning: Palette images with Transparency expressed in bytes should be converted to RGBA images\n",
      "  \"Palette images with Transparency expressed in bytes should be \"\n",
      "IndianPitta: 100%|██████████| 635/635 [00:00<00:00, 245767.56it/s]\n",
      "/home/ubuntu/instoried/lib/python3.6/site-packages/PIL/Image.py:993: UserWarning: Palette images with Transparency expressed in bytes should be converted to RGBA images\n",
      "  \"Palette images with Transparency expressed in bytes should be \"\n",
      "SarusCrane: 100%|██████████| 601/601 [00:00<00:00, 239549.24it/s]\n",
      "/home/ubuntu/instoried/lib/python3.6/site-packages/PIL/Image.py:993: UserWarning: Palette images with Transparency expressed in bytes should be converted to RGBA images\n",
      "  \"Palette images with Transparency expressed in bytes should be \"\n",
      "AsianParadiseFlycatcher: 100%|██████████| 627/627 [00:00<00:00, 243412.50it/s]\n",
      "/home/ubuntu/instoried/lib/python3.6/site-packages/PIL/Image.py:993: UserWarning: Palette images with Transparency expressed in bytes should be converted to RGBA images\n",
      "  \"Palette images with Transparency expressed in bytes should be \"\n",
      "/home/ubuntu/instoried/lib/python3.6/site-packages/PIL/Image.py:993: UserWarning: Palette images with Transparency expressed in bytes should be converted to RGBA images\n",
      "  \"Palette images with Transparency expressed in bytes should be \"\n",
      "SatyrTragopan: 100%|██████████| 530/530 [00:00<00:00, 230791.23it/s]\n",
      "parrot: 100%|██████████| 823/823 [00:00<00:00, 247147.72it/s]\n",
      "/home/ubuntu/instoried/lib/python3.6/site-packages/PIL/Image.py:993: UserWarning: Palette images with Transparency expressed in bytes should be converted to RGBA images\n",
      "  \"Palette images with Transparency expressed in bytes should be \"\n",
      "/home/ubuntu/instoried/lib/python3.6/site-packages/PIL/Image.py:993: UserWarning: Palette images with Transparency expressed in bytes should be converted to RGBA images\n",
      "  \"Palette images with Transparency expressed in bytes should be \"\n",
      "/home/ubuntu/instoried/lib/python3.6/site-packages/PIL/Image.py:993: UserWarning: Palette images with Transparency expressed in bytes should be converted to RGBA images\n",
      "  \"Palette images with Transparency expressed in bytes should be \"\n",
      "peacock: 100%|██████████| 796/796 [00:00<00:00, 250406.21it/s]\n"
     ]
    }
   ],
   "source": [
    "for folder,file in folder_file.items():\n",
    "    path = Path(\"train\")\n",
    "    verify_images(path/folder,delete=True)"
   ]
  },
  {
   "cell_type": "code",
   "execution_count": 10,
   "metadata": {},
   "outputs": [
    {
     "data": {
      "text/plain": [
       "[('HimalayanMonal', 442),\n",
       " ('SatyrTragopan', 474),\n",
       " ('OrientalDwarfKingfisher', 475),\n",
       " ('MrsGould’sSunbird', 493),\n",
       " ('RedHeadedTrogon', 513),\n",
       " ('IndianPitta', 546),\n",
       " ('SarusCrane', 549),\n",
       " ('AsianParadiseFlycatcher', 560),\n",
       " ('parrot', 709),\n",
       " ('peacock', 729)]"
      ]
     },
     "execution_count": 10,
     "metadata": {},
     "output_type": "execute_result"
    }
   ],
   "source": [
    "birdsPerClassCountVerify = { (path/folder).name :len([*(path/folder).iterdir()]) for folder,file in folder_file.items() }\n",
    "sorted(birdsPerClassCountVerify.items() , key=lambda x :x[1])"
   ]
  },
  {
   "cell_type": "code",
   "execution_count": 11,
   "metadata": {},
   "outputs": [
    {
     "name": "stdout",
     "output_type": "stream",
     "text": [
      "len of trainSet 4392 , len of testSet 1098\n"
     ]
    }
   ],
   "source": [
    "batch_size=128*torch.cuda.device_count()\n",
    "transform = transforms.Compose([transforms.Resize((224,224)) , \n",
    "                               transforms.ToTensor(),\n",
    "                               transforms.Normalize([0.485, 0.456, 0.406], [0.229, 0.224, 0.225])\n",
    "                               ])\n",
    "myDataset = torchvision.datasets.ImageFolder(\"train\" , transform = transform)\n",
    "valid_no  = int(0.2 * len(myDataset))\n",
    "# so divide the data into trainset and testset\n",
    "trainSet,testSet = torch.utils.data.random_split(myDataset,(len(myDataset)-valid_no,valid_no))\n",
    "print(f\"len of trainSet {len(trainSet)} , len of testSet {len(testSet)}\")\n",
    "trainLoader  = DataLoader(trainSet , batch_size=batch_size ,shuffle=True) \n",
    "testLoader  = DataLoader(testSet , batch_size=batch_size ,shuffle=True)\n",
    "data_loader={\"train\":trainLoader , \"val\":testLoader}"
   ]
  },
  {
   "cell_type": "code",
   "execution_count": 66,
   "metadata": {},
   "outputs": [
    {
     "name": "stdout",
     "output_type": "stream",
     "text": [
      "2048\n"
     ]
    }
   ],
   "source": [
    "model = models.resnet50(pretrained=True) # load the pretrained model\n",
    "num_features = model.fc.in_features # get the no of on_features in last Linear unit\n",
    "print(num_features)\n",
    "## freeze the entire convolution base\n",
    "for param in model.parameters():\n",
    "    param.requires_grad_(False)\n",
    "    \n",
    "def create_head(num_features , number_classes ,dropout_prob=0.5 ,activation_func =nn.ReLU):\n",
    "    features_lst = [num_features , num_features//2 , num_features//4]\n",
    "    layers = []\n",
    "    for in_f ,out_f in zip(features_lst[:-1] , features_lst[1:]):\n",
    "        layers.append(nn.Linear(in_f , out_f))\n",
    "        layers.append(activation_func())\n",
    "        layers.append(nn.BatchNorm1d(out_f))\n",
    "        if dropout_prob !=0 : layers.append(nn.Dropout(dropout_prob))\n",
    "    layers.append(nn.Linear(features_lst[-1] , number_classes))\n",
    "    return nn.Sequential(*layers)\n",
    "\n",
    "top_head = create_head(num_features , len(birdsPerClassCount)) # because ten classes\n",
    "model.fc = top_head # replace the fully connected layer"
   ]
  },
  {
   "cell_type": "code",
   "execution_count": 67,
   "metadata": {},
   "outputs": [],
   "source": [
    "import copy\n",
    "model_super_conv = copy.deepcopy(model)"
   ]
  },
  {
   "cell_type": "code",
   "execution_count": 68,
   "metadata": {},
   "outputs": [],
   "source": [
    "import torch.optim as optim\n",
    "\n",
    "device = torch.device(\"cuda\" if torch.cuda.is_available() else \"cpu\")\n",
    "\n",
    "model = torch.nn.DataParallel(model).to(device)\n",
    "optimizer = optim.Adam(model.parameters(), lr=0.01)\n",
    "\n",
    "# specify loss function (categorical cross-entropy)\n",
    "criterion = nn.CrossEntropyLoss()\n",
    "\n",
    "model_super_conv = torch.nn.DataParallel(model_super_conv).to(device)\n",
    "optimizer_super_conv = optim.Adam(model_super_conv.parameters(), lr=0.01)\n"
   ]
  },
  {
   "cell_type": "code",
   "execution_count": 15,
   "metadata": {},
   "outputs": [],
   "source": [
    "from tqdm import trange\n",
    "\n",
    "def train(model , data_loader , criterion , optimizer , num_epochs=5):\n",
    "\n",
    "  for epoch in trange(num_epochs,desc=\"Epochs\"):\n",
    "    result = []\n",
    "    for phase in ['train', 'val']:\n",
    "      if phase==\"train\":     # put the model in training mode\n",
    "        model.train()\n",
    "      else:     # put the model in validation mode\n",
    "        model.eval()\n",
    "       \n",
    "      # keep track of training and validation loss\n",
    "      running_loss = 0.0\n",
    "      running_corrects = 0.0  \n",
    "      \n",
    "      for data , target in data_loader[phase]:\n",
    "        #load the data and target to respective device\n",
    "        data , target = data.to(device)  , target.to(device)\n",
    "\n",
    "        with torch.set_grad_enabled(phase==\"train\"):\n",
    "          #feed the input\n",
    "          output = model(data)\n",
    "          #calculate the loss\n",
    "          loss = criterion(output,target)\n",
    "          preds = torch.argmax(output,1)\n",
    "\n",
    "          if phase==\"train\"  :\n",
    "            # backward pass: compute gradient of the loss with respect to model parameters \n",
    "            loss.backward()\n",
    "            # update the model parameters\n",
    "            optimizer.step()\n",
    "            # zero the grad to stop it from accumulating\n",
    "            optimizer.zero_grad()\n",
    "\n",
    "\n",
    "        # statistics\n",
    "        running_loss += loss.item() * data.size(0)\n",
    "        running_corrects += torch.sum(preds == target.data).item()\n",
    "        \n",
    "        \n",
    "      epoch_loss = running_loss / len(data_loader[phase].dataset)\n",
    "      epoch_acc = running_corrects / len(data_loader[phase].dataset)\n",
    "\n",
    "      result.append('{} Loss: {:.4f} Acc: {:.4f}'.format(phase, epoch_loss, epoch_acc))\n",
    "    print(result)\n"
   ]
  },
  {
   "cell_type": "code",
   "execution_count": 16,
   "metadata": {},
   "outputs": [
    {
     "name": "stderr",
     "output_type": "stream",
     "text": [
      "Epochs:  10%|█         | 1/10 [01:59<17:51, 119.04s/it]"
     ]
    },
    {
     "name": "stdout",
     "output_type": "stream",
     "text": [
      "['train Loss: 1.4076 Acc: 0.5533', 'val Loss: 7.2398 Acc: 0.4827']\n"
     ]
    },
    {
     "name": "stderr",
     "output_type": "stream",
     "text": [
      "\r",
      "Epochs:  20%|██        | 2/10 [03:38<15:06, 113.31s/it]"
     ]
    },
    {
     "name": "stdout",
     "output_type": "stream",
     "text": [
      "['train Loss: 0.6342 Acc: 0.8071', 'val Loss: 1.7492 Acc: 0.7732']\n"
     ]
    },
    {
     "name": "stderr",
     "output_type": "stream",
     "text": [
      "\r",
      "Epochs:  30%|███       | 3/10 [05:19<12:45, 109.36s/it]"
     ]
    },
    {
     "name": "stdout",
     "output_type": "stream",
     "text": [
      "['train Loss: 0.5355 Acc: 0.8372', 'val Loss: 0.8349 Acc: 0.8506']\n"
     ]
    },
    {
     "name": "stderr",
     "output_type": "stream",
     "text": [
      "\r",
      "Epochs:  40%|████      | 4/10 [06:59<10:39, 106.59s/it]"
     ]
    },
    {
     "name": "stdout",
     "output_type": "stream",
     "text": [
      "['train Loss: 0.4618 Acc: 0.8618', 'val Loss: 0.7415 Acc: 0.8434']\n"
     ]
    },
    {
     "name": "stderr",
     "output_type": "stream",
     "text": [
      "\r",
      "Epochs:  50%|█████     | 5/10 [08:39<08:43, 104.65s/it]"
     ]
    },
    {
     "name": "stdout",
     "output_type": "stream",
     "text": [
      "['train Loss: 0.4255 Acc: 0.8723', 'val Loss: 0.5552 Acc: 0.8679']\n"
     ]
    },
    {
     "name": "stderr",
     "output_type": "stream",
     "text": [
      "\r",
      "Epochs:  60%|██████    | 6/10 [10:19<06:53, 103.28s/it]"
     ]
    },
    {
     "name": "stdout",
     "output_type": "stream",
     "text": [
      "['train Loss: 0.3882 Acc: 0.8864', 'val Loss: 0.5443 Acc: 0.8561']\n"
     ]
    },
    {
     "name": "stderr",
     "output_type": "stream",
     "text": [
      "\r",
      "Epochs:  70%|███████   | 7/10 [11:59<05:07, 102.36s/it]"
     ]
    },
    {
     "name": "stdout",
     "output_type": "stream",
     "text": [
      "['train Loss: 0.3585 Acc: 0.8925', 'val Loss: 0.5390 Acc: 0.8588']\n"
     ]
    },
    {
     "name": "stderr",
     "output_type": "stream",
     "text": [
      "\r",
      "Epochs:  80%|████████  | 8/10 [13:39<03:23, 101.69s/it]"
     ]
    },
    {
     "name": "stdout",
     "output_type": "stream",
     "text": [
      "['train Loss: 0.3416 Acc: 0.8939', 'val Loss: 0.4994 Acc: 0.8679']\n"
     ]
    },
    {
     "name": "stderr",
     "output_type": "stream",
     "text": [
      "\r",
      "Epochs:  90%|█████████ | 9/10 [15:19<01:41, 101.22s/it]"
     ]
    },
    {
     "name": "stdout",
     "output_type": "stream",
     "text": [
      "['train Loss: 0.3138 Acc: 0.9064', 'val Loss: 0.5047 Acc: 0.8652']\n"
     ]
    },
    {
     "name": "stderr",
     "output_type": "stream",
     "text": [
      "\r",
      "Epochs: 100%|██████████| 10/10 [17:00<00:00, 100.92s/it]"
     ]
    },
    {
     "name": "stdout",
     "output_type": "stream",
     "text": [
      "['train Loss: 0.3032 Acc: 0.9071', 'val Loss: 0.5204 Acc: 0.8634']\n"
     ]
    },
    {
     "name": "stderr",
     "output_type": "stream",
     "text": [
      "\n"
     ]
    }
   ],
   "source": [
    "train(model,data_loader , criterion, optimizer,num_epochs=10)"
   ]
  },
  {
   "cell_type": "code",
   "execution_count": 17,
   "metadata": {},
   "outputs": [
    {
     "name": "stdout",
     "output_type": "stream",
     "text": [
      "AsianParadiseFlycatcher :- 88.2883 %\n",
      "HimalayanMonal :- 77.1739 %\n",
      "IndianPitta :- 80.0 %\n",
      "MrsGould’sSunbird :- 79.7872 %\n",
      "OrientalDwarfKingfisher :- 89.011 %\n",
      "RedHeadedTrogon :- 77.0833 %\n",
      "SarusCrane :- 92.233 %\n",
      "SatyrTragopan :- 89.1892 %\n",
      "parrot :- 96.3768 %\n",
      "peacock :- 87.6543 %\n",
      "total acc is 86.33879781420765%\n"
     ]
    }
   ],
   "source": [
    "def perClassAccuracy(model ,classes):\n",
    "  class_correct = np.zeros(len(classes) ,dtype =np.int64 )\n",
    "  class_total = np.zeros_like(class_correct,dtype =np.int64 )\n",
    "  model.eval()\n",
    "  \n",
    "  for data ,target in data_loader[\"val\"]:\n",
    "    data,target =data.to(device) , target.to(device)\n",
    "    with torch.set_grad_enabled(False):\n",
    "      output =model(data)\n",
    "      preds = torch.argmax(output,1)\n",
    "      for prediction , label in zip(preds , target.data):\n",
    "        if prediction == label:\n",
    "          class_correct[prediction]+=1\n",
    "        class_total[label]+=1\n",
    "  per = np.round((100*class_correct/class_total) ,4)\n",
    "  out = \"\\n\".join([f\"{name} :- {acc} %\" for name ,acc in zip(classes , per)])\n",
    "  return out+\"\\ntotal acc is {0}%\".format(100* sum(class_correct)/sum(class_total))\n",
    "\n",
    "print(perClassAccuracy(model , myDataset.classes))"
   ]
  },
  {
   "cell_type": "code",
   "execution_count": null,
   "metadata": {},
   "outputs": [],
   "source": []
  },
  {
   "cell_type": "code",
   "execution_count": null,
   "metadata": {},
   "outputs": [],
   "source": []
  },
  {
   "cell_type": "code",
   "execution_count": 69,
   "metadata": {},
   "outputs": [
    {
     "name": "stdout",
     "output_type": "stream",
     "text": [
      "unfreezing these layer ['layer4', 'avgpool', 'fc']\n",
      "conv1 False\n",
      "bn1 False\n",
      "relu True\n",
      "maxpool True\n",
      "layer1 False\n",
      "layer2 False\n",
      "layer3 False\n",
      "layer4 True\n",
      "avgpool True\n",
      "fc True\n"
     ]
    }
   ],
   "source": [
    "def unfreeze(model,percent=0.25):\n",
    "  l = int(np.ceil(len(model.module._modules.keys())* percent))\n",
    "  l = list(model.module._modules.keys())[-l:]\n",
    "  print(f\"unfreezing these layer {l}\",)\n",
    "  for name in l:\n",
    "    for params in model.module._modules[name].parameters():\n",
    "      params.requires_grad_(True)\n",
    "\n",
    "def check_freeze(model):\n",
    "  for name ,layer in model.module._modules.items():\n",
    "    s = []\n",
    "    for l in layer.parameters():\n",
    "      s.append(l.requires_grad)\n",
    "    print(name ,all(s))\n",
    "# unfreeze half of the model\n",
    "unfreeze(model_super_conv ,0.30)\n",
    "# check which layer is freezed or not\n",
    "check_freeze(model_super_conv)"
   ]
  },
  {
   "cell_type": "code",
   "execution_count": 38,
   "metadata": {},
   "outputs": [],
   "source": [
    "from torch.optim import lr_scheduler\n",
    "class LinearScheduler(lr_scheduler._LRScheduler):\n",
    "    \"\"\"Linearly increases the learning rate between two boundaries over a number of iterations.\"\"\"\n",
    "    def __init__(self, optimizer, end_lr, num_iter):\n",
    "        self.end_lr = end_lr\n",
    "        self.num_iter = num_iter\n",
    "        super(LinearScheduler,self).__init__(optimizer)\n",
    "\n",
    "    def get_lr(self):\n",
    "        # increement one by one\n",
    "        curr_iter = self.last_epoch + 1\n",
    "        # get the ratio\n",
    "        pct = curr_iter / self.num_iter\n",
    "        # calculate lr with this formulae start + pct * (end-start)\n",
    "        return [base_lr + pct * (self.end_lr - base_lr) for base_lr in self.base_lrs]\n",
    "\n",
    "\n",
    "class ExponentialScheduler(lr_scheduler._LRScheduler):\n",
    "    \"\"\"Exponentially increases the learning rate between two boundaries over a number of iterations.\"\"\"\n",
    "\n",
    "    def __init__(self, optimizer, end_lr, num_iter, last_epoch=-1):\n",
    "        self.end_lr = end_lr\n",
    "        self.num_iter = num_iter\n",
    "        super(ExponentialScheduler,self).__init__(optimizer)\n",
    "\n",
    "    def get_lr(self):\n",
    "        curr_iter = self.last_epoch + 1\n",
    "        pct = curr_iter / self.num_iter\n",
    "        return [base_lr * (self.end_lr / base_lr) ** pct for base_lr in self.base_lrs]\n",
    "      \n",
    "class CosineScheduler(lr_scheduler._LRScheduler):\n",
    "    \"\"\"Cosine increases the learning rate between two boundaries over a number of iterations.\"\"\"\n",
    "\n",
    "    def __init__(self, optimizer, end_lr, num_iter, last_epoch=-1):\n",
    "        self.end_lr = end_lr\n",
    "        self.num_iter = num_iter\n",
    "        super(CosineScheduler,self).__init__(optimizer)\n",
    "\n",
    "    def get_lr(self):\n",
    "        curr_iter = self.last_epoch + 1\n",
    "        pct = curr_iter / self.num_iter\n",
    "        cos_out = np.cos(np.pi * pct) + 1\n",
    "        return [self.end_lr + (base_lr - self.end_lr )/2 *cos_out for base_lr in self.base_lrs]"
   ]
  },
  {
   "cell_type": "code",
   "execution_count": 70,
   "metadata": {},
   "outputs": [],
   "source": [
    "class LRFinder:\n",
    "  \n",
    "  def __init__(self, model  , optimizer , criterion ,start_lr=1e-7, device=None):\n",
    "    \n",
    "    self.model = model\n",
    "    # Move the model to the proper device\n",
    "    self.optimizer = optimizer\n",
    "    self.criterion = criterion\n",
    "    \n",
    "    ## save the model intial dict\n",
    "    self.save_file = Path(\"tmpfile\")\n",
    "    torch.save(self.model , self.save_file)    \n",
    "    if device is None:\n",
    "      self.device = next(model.parameters()).device\n",
    "    else:\n",
    "      self.device = device\n",
    "    self.model.to(self.device)\n",
    "    \n",
    "    self.history = {\"lr\":[] , \"losses\":[]}\n",
    "    for l in self.optimizer.param_groups:\n",
    "      l[\"initial_lr\"]=start_lr\n",
    "    \n",
    "    \n",
    "  def reset(self):\n",
    "    \"\"\" Resets the model to intial state \"\"\"\n",
    "    self.model = torch.load(self.save_file)\n",
    "    self.model.train()\n",
    "    self.save_file.unlink()\n",
    "    return self.model\n",
    "    \n",
    "  def calculateSmmothingValue(self ,beta):\n",
    "    n ,mov_avg=0,0\n",
    "    while True :\n",
    "      n+=1\n",
    "      value = yield\n",
    "      mov_avg = beta*mov_avg +(1-beta)*value\n",
    "      smooth = mov_avg / (1 - beta **n )\n",
    "      yield smooth\n",
    "    \n",
    "  def lrfind(self, trainLoader,end_lr=10,num_iter=50,step_mode=\"exp\", loss_smoothing_beta=0.99, diverge_th=4): \n",
    "        \"\"\"\n",
    "         Performs the lrfind test\n",
    "\n",
    "         Arguments:\n",
    "            trainLoader : The data loader\n",
    "            end_lr :  The maximum lr\n",
    "            num_iter : Max iteratiom\n",
    "            step_mode : The anneal function by default `exp` but can be either `linear` or `cos`\n",
    "            smooth_f : The loss smoothing factor, value should be between [0 , 1[\n",
    "            diverge_th: The max loss value after which training should be stooped\n",
    "        \"\"\"\n",
    "              # Reset test results\n",
    "        self.history = {\"lr\": [], \"losses\": []}\n",
    "        self.best_loss = None\n",
    "        self.smoothner = self.calculateSmmothingValue(loss_smoothing_beta)\n",
    "        \n",
    "        if step_mode.lower()==\"exp\":\n",
    "          lr_schedule = ExponentialScheduler(self.optimizer , end_lr  , num_iter,)\n",
    "        elif step_mode.lower()==\"cos\":\n",
    "          lr_schedule = CosineScheduler(self.optimizer , end_lr  , num_iter)\n",
    "        elif step.mode.lower()==\"linear\":\n",
    "          lr_schedule = LinearScheduler(self.optimizer , end_lr  , num_iter)\n",
    "        else:\n",
    "          raise ValueError(f\"expected mode is either {exp , cos ,linear} got {step_mode}\")\n",
    "        \n",
    "        if 0 < loss_smoothing_beta >=1:\n",
    "          raise ValueError(\"smooth_f is outside the range [0, 1[\")\n",
    "        \n",
    "        iterator = iter(trainLoader)\n",
    "        for each_iter in range(num_iter):\n",
    "          try:\n",
    "            data , target = next(iterator)\n",
    "          except StopIteration:\n",
    "            iterator = iter(trainLoader)\n",
    "            data , target = next(iterator)\n",
    "         \n",
    "          loss = self._train_batch(data , target)\n",
    "          \n",
    "          # Update the learning rate\n",
    "          lr_schedule.step()\n",
    "          self.history[\"lr\"].append(lr_schedule.get_lr()[0])\n",
    "          # Track the best loss and smooth it if smooth_f is specified\n",
    "          if each_iter == 0:\n",
    "              self.best_loss = loss\n",
    "          else:\n",
    "              next(self.smoothner)\n",
    "              self.best_loss = self.smoothner.send(loss)\n",
    "              if loss < self.best_loss:\n",
    "                  self.best_loss = loss\n",
    "\n",
    "          # Check if the loss has diverged; if it has, stop the test\n",
    "          self.history[\"losses\"].append(self.best_loss)\n",
    "          if loss > diverge_th * self.best_loss:\n",
    "              print(\"Stopping early, the loss has diverged\")\n",
    "              break\n",
    "\n",
    "        print(\"Learning rate search finished. See the graph with {finder_name}.plot()\")            \n",
    "  \n",
    "  def _train_batch(self,data,target):\n",
    "    # set to training mode\n",
    "    self.model.train()\n",
    "    #load data to device\n",
    "    data ,target = data.to(self.device) ,target.to(self.device)\n",
    "    \n",
    "    #forward pass\n",
    "    self.optimizer.zero_grad()\n",
    "    for l in self.optimizer.param_groups:\n",
    "        lr =l[\"lr\"] \n",
    "    output = self.model(data)\n",
    "    loss = self.criterion(output,target)\n",
    "    \n",
    "    #backward pass\n",
    "    loss.backward()\n",
    "    self.optimizer.step()\n",
    "    return loss.item()\n",
    "  \n",
    "  def plot(self):\n",
    "    losses = self.history[\"losses\"]\n",
    "    lr = self.history[\"lr\"]\n",
    "    plt.semilogx(lr,losses)\n",
    "    plt.xlabel(\"Learning rate\")\n",
    "    plt.ylabel(\"Losses \")\n"
   ]
  },
  {
   "cell_type": "code",
   "execution_count": 40,
   "metadata": {},
   "outputs": [
    {
     "name": "stdout",
     "output_type": "stream",
     "text": [
      "Stopping early, the loss has diverged\n",
      "Learning rate search finished. See the graph with {finder_name}.plot()\n"
     ]
    }
   ],
   "source": [
    "lr_finder = LRFinder(model_super_conv, optimizer_super_conv, criterion, device=device)\n",
    "lr_finder.lrfind(data_loader[\"train\"], end_lr=1, step_mode=\"exp\")"
   ]
  },
  {
   "cell_type": "code",
   "execution_count": 41,
   "metadata": {},
   "outputs": [
    {
     "data": {
      "image/png": "[encoded data removed]",
      "text/plain": [
       "<Figure size 432x288 with 1 Axes>"
      ]
     },
     "metadata": {
      "needs_background": "light"
     },
     "output_type": "display_data"
    }
   ],
   "source": [
    "lr_finder.plot()"
   ]
  },
  {
   "cell_type": "code",
   "execution_count": 42,
   "metadata": {},
   "outputs": [],
   "source": [
    "model_super_conv = lr_finder.reset()\n",
    "optimizer_super_conv = optim.Adam(model_super_conv.parameters(), lr=0.01)\n"
   ]
  },
  {
   "cell_type": "code",
   "execution_count": 45,
   "metadata": {},
   "outputs": [],
   "source": [
    "class Stepper():\n",
    "    \"Used to \\\"step\\\" from start,end (`vals`) over `n_iter` iterations on a schedule defined by `func`\"\n",
    "    \n",
    "    def __init__(self, val, n_iter:int, func):\n",
    "        self.start,self.end = val\n",
    "        self.n_iter = max(1,n_iter)\n",
    "        self.func = func\n",
    "        self.n = 0\n",
    "\n",
    "    def step(self):\n",
    "        \"Return next value along annealed schedule.\"\n",
    "        self.n += 1\n",
    "        return self.func(self.start, self.end, self.n/self.n_iter)\n",
    "\n",
    "    @property\n",
    "    def is_done(self):\n",
    "        \"Return `True` if schedule completed.\"\n",
    "        return self.n >= self.n_iter\n",
    "    \n",
    "# Annealing functions\n",
    "def annealing_no(start, end, pct):\n",
    "    \"No annealing, always return `start`.\"\n",
    "    return start\n",
    "  \n",
    "def annealing_linear(start, end, pct):\n",
    "    \"Linearly anneal from `start` to `end` as pct goes from 0.0 to 1.0.\"\n",
    "    return start + pct * (end-start)\n",
    "  \n",
    "def annealing_exp(start, end, pct):\n",
    "    \"Exponentially anneal from `start` to `end` as pct goes from 0.0 to 1.0.\"\n",
    "    return start * (end/start) ** pct\n",
    "\n",
    "def annealing_cos(start, end, pct):\n",
    "    \"Cosine anneal from `start` to `end` as pct goes from 0.0 to 1.0.\"\n",
    "    cos_out = np.cos(np.pi * pct) + 1\n",
    "    return end + (start-end)/2 * cos_out"
   ]
  },
  {
   "cell_type": "code",
   "execution_count": 71,
   "metadata": {},
   "outputs": [],
   "source": [
    "\n",
    "class OneCyclePolicy:\n",
    "  \n",
    "  def __init__(self,model , optimizer , criterion ,num_iteration,num_epochs,max_lr, momentum = (0.95,0.85) , div_factor=25 , pct_start=0.4, device=None ):\n",
    "    \n",
    "    self.model =model\n",
    "    self.optimizer = optimizer\n",
    "    self.criterion = criterion\n",
    "    self.num_epochs = num_epochs\n",
    "    if device is None:\n",
    "      self.device = next(model.parameters()).device\n",
    "    else:\n",
    "      self.device = device\n",
    "      \n",
    "    n = num_iteration * self.num_epochs\n",
    "    a1 = int(n*pct_start)\n",
    "    a2 = n-a1\n",
    "    self.phases = ((a1 , annealing_linear) , (a2 , annealing_cos))\n",
    "    min_lr = max_lr/div_factor\n",
    "    self.lr_scheds = self.steps((min_lr,max_lr) , (max_lr,min_lr/1e4))\n",
    "    self.mom_scheds =self.steps(momentum , momentum[::-1])\n",
    "    self.idx_s = 0\n",
    "    self.update_lr_mom(self.lr_scheds[0].start,self.mom_scheds[0].start)\n",
    "  \n",
    "  def steps(self, *steps):\n",
    "      \"Build anneal schedule for all of the parameters.\"\n",
    "      return [Stepper(step, n_iter, func=func)for (step,(n_iter,func)) in zip(steps, self.phases)]\n",
    "\n",
    "  def train(self, trainLoader , validLoader ):\n",
    "    self.model.to(self.device)\n",
    "    data_loader = {\"train\":trainLoader , \"val\":validLoader}\n",
    "    for epoch in tqdm(range(self.num_epochs),desc=\"Epochs\"):\n",
    "      result = []\n",
    "      for phase in ['train', 'val']:\n",
    "        if phase==\"train\":     # put the model in training mode\n",
    "          model.train()\n",
    "        else:     # put the model in validation mode\n",
    "          model.eval()\n",
    "\n",
    "        # keep track of training and validation loss\n",
    "        running_loss = 0.0\n",
    "        running_corrects = 0  \n",
    "\n",
    "        for data , target in data_loader[phase]:\n",
    "          #load the data and target to respective device\n",
    "          data , target = data.to(device)  , target.to(device)\n",
    "\n",
    "          with torch.set_grad_enabled(phase==\"train\"):\n",
    "            #feed the input\n",
    "            output = self.model(data)\n",
    "            #calculate the loss\n",
    "            loss = self.criterion(output,target)\n",
    "            preds = torch.argmax(output,1)\n",
    "\n",
    "            if phase==\"train\"  :\n",
    "              # backward pass: compute gradient of the loss with respect to model parameters \n",
    "              loss.backward()\n",
    "              # update the model parameters\n",
    "              self.optimizer.step()\n",
    "              # zero the grad to stop it from accumulating\n",
    "              self.optimizer.zero_grad()\n",
    "            \n",
    "              self.update_lr_mom(self.lr_scheds[self.idx_s].step() ,self.mom_scheds[self.idx_s].step() )\n",
    "\n",
    "              if self.lr_scheds[self.idx_s].is_done:\n",
    "                self.idx_s += 1\n",
    "          \n",
    "          # statistics\n",
    "          running_loss += loss.item() * data.size(0)\n",
    "          running_corrects += torch.sum(preds == target.data).item()\n",
    "\n",
    "\n",
    "        epoch_loss = running_loss / len(data_loader[phase].dataset)\n",
    "        epoch_acc = running_corrects/ len(data_loader[phase].dataset)\n",
    "\n",
    "        result.append('{} Loss: {:.4f} Acc: {:.4f}'.format(phase, epoch_loss, epoch_acc))\n",
    "      print(result)\n",
    "\n",
    "  def update_lr_mom(self,lr=0.001,mom=0.99):\n",
    "    for l in self.optimizer.param_groups:\n",
    "      l[\"lr\"]=lr\n",
    "      if isinstance(self.optimizer , ( torch.optim.Adamax,torch.optim.Adam)):\n",
    "          l[\"betas\"] = ( mom, 0.999)\n",
    "      elif isinstance(self.optimizer, torch.optim.SGD):\n",
    "          l[\"momentum\"] =mom"
   ]
  },
  {
   "cell_type": "code",
   "execution_count": 72,
   "metadata": {},
   "outputs": [
    {
     "name": "stderr",
     "output_type": "stream",
     "text": [
      "Epochs:  20%|██        | 1/5 [01:41<06:46, 101.52s/it]"
     ]
    },
    {
     "name": "stdout",
     "output_type": "stream",
     "text": [
      "['train Loss: 2.0348 Acc: 0.3179', 'val Loss: 0.7256 Acc: 0.8097']\n"
     ]
    },
    {
     "name": "stderr",
     "output_type": "stream",
     "text": [
      "\r",
      "Epochs:  40%|████      | 2/5 [03:22<05:04, 101.49s/it]"
     ]
    },
    {
     "name": "stdout",
     "output_type": "stream",
     "text": [
      "['train Loss: 0.5220 Acc: 0.8541', 'val Loss: 0.4162 Acc: 0.8834']\n"
     ]
    },
    {
     "name": "stderr",
     "output_type": "stream",
     "text": [
      "\r",
      "Epochs:  60%|██████    | 3/5 [05:04<03:22, 101.48s/it]"
     ]
    },
    {
     "name": "stdout",
     "output_type": "stream",
     "text": [
      "['train Loss: 0.2613 Acc: 0.9271', 'val Loss: 0.3958 Acc: 0.8934']\n"
     ]
    },
    {
     "name": "stderr",
     "output_type": "stream",
     "text": [
      "\r",
      "Epochs:  80%|████████  | 4/5 [06:45<01:41, 101.49s/it]"
     ]
    },
    {
     "name": "stdout",
     "output_type": "stream",
     "text": [
      "['train Loss: 0.1407 Acc: 0.9620', 'val Loss: 0.3632 Acc: 0.9044']\n"
     ]
    },
    {
     "name": "stderr",
     "output_type": "stream",
     "text": [
      "\r",
      "Epochs: 100%|██████████| 5/5 [08:27<00:00, 101.45s/it]"
     ]
    },
    {
     "name": "stdout",
     "output_type": "stream",
     "text": [
      "['train Loss: 0.0936 Acc: 0.9770', 'val Loss: 0.3751 Acc: 0.8980']\n"
     ]
    },
    {
     "name": "stderr",
     "output_type": "stream",
     "text": [
      "\n"
     ]
    }
   ],
   "source": [
    "fit_one_cycle = OneCyclePolicy(model_super_conv ,optimizer_super_conv , criterion,\n",
    "                               num_iteration=len(trainLoader)  , num_epochs =5 ,\n",
    "                               max_lr =0.001 ,device=device)\n",
    "fit_one_cycle.train(trainLoader,testLoader)"
   ]
  },
  {
   "cell_type": "code",
   "execution_count": 73,
   "metadata": {},
   "outputs": [
    {
     "name": "stdout",
     "output_type": "stream",
     "text": [
      "AsianParadiseFlycatcher :- 90.991 %\n",
      "HimalayanMonal :- 84.7826 %\n",
      "IndianPitta :- 87.0 %\n",
      "MrsGould’sSunbird :- 89.3617 %\n",
      "OrientalDwarfKingfisher :- 93.4066 %\n",
      "RedHeadedTrogon :- 85.4167 %\n",
      "SarusCrane :- 95.1456 %\n",
      "SatyrTragopan :- 91.8919 %\n",
      "parrot :- 99.2754 %\n",
      "peacock :- 91.358 %\n",
      "total acc is 91.2568306010929%\n"
     ]
    }
   ],
   "source": [
    "print(perClassAccuracy(model_super_conv , myDataset.classes))"
   ]
  },
  {
   "cell_type": "code",
   "execution_count": null,
   "metadata": {},
   "outputs": [],
   "source": []
  }
 ],
 "metadata": {
  "kernelspec": {
   "display_name": "Python 3",
   "language": "python",
   "name": "python3"
  },
  "language_info": {
   "codemirror_mode": {
    "name": "ipython",
    "version": 3
   },
   "file_extension": ".py",
   "mimetype": "text/x-python",
   "name": "python",
   "nbconvert_exporter": "python",
   "pygments_lexer": "ipython3",
   "version": "3.6.9"
  },
  "toc": {
   "base_numbering": 1,
   "nav_menu": {},
   "number_sections": true,
   "sideBar": true,
   "skip_h1_title": false,
   "title_cell": "Table of Contents",
   "title_sidebar": "Contents",
   "toc_cell": false,
   "toc_position": {},
   "toc_section_display": true,
   "toc_window_display": false
  }
 },
 "nbformat": 4,
 "nbformat_minor": 2
}
