{
 "cells": [
  {
   "cell_type": "code",
   "execution_count": 0,
   "metadata": {
    "colab": {
     "base_uri": "https://localhost:8080/",
     "height": 124
    },
    "colab_type": "code",
    "id": "CurJU6vs9ZPr",
    "outputId": "914fe668-a511-4517-b24b-d7f23d74a90f"
   },
   "outputs": [
    {
     "name": "stdout",
     "output_type": "stream",
     "text": [
      "Go to this URL in a browser: https://accounts.google.com/o/oauth2/auth?client_id=947318989803-6bn6qk8qdgf4n4g3pfee6491hc0brc4i.apps.googleusercontent.com&redirect_uri=urn%3Aietf%3Awg%3Aoauth%3A2.0%3Aoob&scope=email%20https%3A%2F%2Fwww.googleapis.com%2Fauth%2Fdocs.test%20https%3A%2F%2Fwww.googleapis.com%2Fauth%2Fdrive%20https%3A%2F%2Fwww.googleapis.com%2Fauth%2Fdrive.photos.readonly%20https%3A%2F%2Fwww.googleapis.com%2Fauth%2Fpeopleapi.readonly&response_type=code\n",
      "\n",
      "Enter your authorization code:\n",
      "··········\n",
      "Mounted at /gdrive\n"
     ]
    }
   ],
   "source": [
    "from google.colab import drive\n",
    "drive.mount('/gdrive')"
   ]
  },
  {
   "cell_type": "markdown",
   "metadata": {
    "colab_type": "text",
    "id": "RoUR8k75CALF"
   },
   "source": [
    "## Import Statement"
   ]
  },
  {
   "cell_type": "code",
   "execution_count": 0,
   "metadata": {
    "colab": {
     "base_uri": "https://localhost:8080/",
     "height": 69
    },
    "colab_type": "code",
    "id": "u84ANfbIB_QM",
    "outputId": "e75492d4-3962-44b5-a6cc-1592f17b60ca"
   },
   "outputs": [
    {
     "name": "stdout",
     "output_type": "stream",
     "text": [
      "torch version 1.0.1.post2\n",
      "PIL version 4.1.1\n",
      "Device cuda\n"
     ]
    }
   ],
   "source": [
    "import numpy as np\n",
    "import matplotlib.pyplot as plt\n",
    "import pandas as pd\n",
    "\n",
    "import torch\n",
    "from torch import nn\n",
    "from torch import optim\n",
    "from torch.utils.data import DataLoader\n",
    "import torch.nn.functional as F\n",
    "from torchvision import datasets , transforms\n",
    "from torch.optim import lr_scheduler\n",
    "\n",
    "from tqdm import tqdm\n",
    "\n",
    "import random\n",
    "import PIL \n",
    "from PIL import Image\n",
    "\n",
    "from torch.autograd import Variable\n",
    "from collections import OrderedDict\n",
    "import math\n",
    "from pathlib import Path\n",
    "device = (\"cuda\" if torch.cuda.is_available() else \"cpu\")\n",
    "print(f\"torch version {torch.__version__}\\nPIL version {PIL.__version__}\\nDevice {device}\")\n"
   ]
  },
  {
   "cell_type": "markdown",
   "metadata": {
    "colab_type": "text",
    "id": "DpcABW81CuM4"
   },
   "source": [
    "## Objective\n",
    "1. Get more than 93% accuracy\n",
    "2. Less then 1 million parameter\n",
    "3. Max 250 Epoch\n",
    "4. Use Data Augmentation"
   ]
  },
  {
   "cell_type": "markdown",
   "metadata": {
    "colab_type": "text",
    "id": "xkCtM8WBDlec"
   },
   "source": [
    "## Dataset"
   ]
  },
  {
   "cell_type": "markdown",
   "metadata": {
    "colab_type": "text",
    "id": "c6rm08Z1DwfE"
   },
   "source": [
    "### Mean and Std calculation for Normalization"
   ]
  },
  {
   "cell_type": "code",
   "execution_count": 0,
   "metadata": {
    "colab": {
     "base_uri": "https://localhost:8080/",
     "height": 86
    },
    "colab_type": "code",
    "id": "V9ipmMLSBwjn",
    "outputId": "765e3929-bb72-47ff-d912-b828561ee189"
   },
   "outputs": [
    {
     "name": "stderr",
     "output_type": "stream",
     "text": [
      "\r",
      "0it [00:00, ?it/s]"
     ]
    },
    {
     "name": "stdout",
     "output_type": "stream",
     "text": [
      "Downloading https://www.cs.toronto.edu/~kriz/cifar-10-python.tar.gz to data/cifar-10-python.tar.gz\n"
     ]
    },
    {
     "name": "stderr",
     "output_type": "stream",
     "text": [
      "100%|█████████▉| 170467328/170498071 [02:41<00:00, 692909.79it/s]"
     ]
    },
    {
     "name": "stdout",
     "output_type": "stream",
     "text": [
      "\n",
      "Mean is [125.30691805 122.95039414 113.86538318]\n",
      "Std dev is  [62.99321928 62.08870764 66.70489964]\n"
     ]
    }
   ],
   "source": [
    "dataset = datasets.CIFAR10(train=True,root=\"data/\" , download=True)\n",
    "mean = np.mean(dataset.data ,axis=(0,1,2))\n",
    "std = np.std(dataset.data ,axis=(0,1,2))\n",
    "print(f\"\\nMean is {mean}\\nStd dev is  {std}\")"
   ]
  },
  {
   "cell_type": "markdown",
   "metadata": {
    "colab_type": "text",
    "id": "EXFkZ-XZjz7Z"
   },
   "source": [
    "### Transformation and Dataset Defination"
   ]
  },
  {
   "cell_type": "code",
   "execution_count": 0,
   "metadata": {
    "colab": {
     "base_uri": "https://localhost:8080/",
     "height": 52
    },
    "colab_type": "code",
    "id": "S57jbekEGyae",
    "outputId": "16c1b059-b0b6-4b95-e41a-4a779aa81024"
   },
   "outputs": [
    {
     "name": "stdout",
     "output_type": "stream",
     "text": [
      "Files already downloaded and verified\n",
      "Files already downloaded and verified\n"
     ]
    }
   ],
   "source": [
    "train_transforms = transforms.Compose([transforms.RandomCrop(size=32 , padding=4 , padding_mode=\"symmetric\",pad_if_needed=True),\n",
    "                                       transforms.RandomHorizontalFlip(p=0.5),\n",
    "                                       transforms.ToTensor(),\n",
    "                                       #transforms.Normalize(mean = mean , std=std)\n",
    "                                      ])\n",
    "\n",
    "val_transforms = transforms.Compose([transforms.ToTensor() , \n",
    "                                     #transforms.Normalize(mean=mean , std=std)\n",
    "                                    ])\n",
    "\n",
    "mean = torch.from_numpy(mean).type(torch.float32)\n",
    "std = torch.from_numpy(std).type(torch.float32)\n",
    "\n",
    "def denormalize(image):\n",
    "  image = image.clone().detach().to(\"cpu\") # take out of computational graph\n",
    "  image = image.squeeze() \n",
    "  image = image.permute(1,2,0) # channel swapping H*W*C\n",
    " # image.mul_(std).add_(mean) # denormalize\n",
    "\n",
    "  return image.numpy() \n",
    "\n",
    "trainset = datasets.CIFAR10(train=True,root=\"data/\" , download=True,transform=train_transforms)\n",
    "valset  = datasets.CIFAR10(train=False,root=\"data/\" , download=True,transform=val_transforms)"
   ]
  },
  {
   "cell_type": "markdown",
   "metadata": {
    "colab_type": "text",
    "id": "VlU2LzfJj8ig"
   },
   "source": [
    "### Augmentation Visualization\n",
    "side by side comparison of original Image and augmented Image"
   ]
  },
  {
   "cell_type": "code",
   "execution_count": 0,
   "metadata": {
    "colab": {
     "base_uri": "https://localhost:8080/",
     "height": 278
    },
    "colab_type": "code",
    "id": "x1ry8PlbHAWh",
    "outputId": "f2457f0d-291f-4444-e96b-251d2186e802"
   },
   "outputs": [
    {
     "data": {
      "image/png": "[encoded data removed]",
      "text/plain": [
       "<Figure size 2880x288 with 40 Axes>"
      ]
     },
     "metadata": {
      "tags": []
     },
     "output_type": "display_data"
    }
   ],
   "source": [
    "def show_img(ax,img,text):\n",
    "  ax.set_xticks([])\n",
    "  ax.set_yticks([])\n",
    "  ax.grid(False)\n",
    "  ax.imshow(img)\n",
    "  ax.set_title(text.title())\n",
    "\n",
    "def visualizeAugmentation(augSet , normalset , no_of_images=8):\n",
    "  \"\"\"\n",
    "    Visualizing Augmentation with normal set\n",
    "    :augset : Augmented dataset\n",
    "    :normalset :Normal dataset with no Augmentation\n",
    "  \"\"\"\n",
    "  fig = plt.figure(figsize=(no_of_images*2,4))\n",
    "  \n",
    "  l = [x for x in range(1,2*no_of_images+1)] #indexing purpose \n",
    "  \n",
    "  for i in range(no_of_images):\n",
    "    \n",
    "    ax  = fig.add_subplot(2,no_of_images,l[::2][i]) #odd numbers \n",
    "    ax2 = fig.add_subplot(2,no_of_images,l[1::2][i]) #even numbers\n",
    "    \n",
    "    show_img(ax , normalset[i][0],f\"ori___{normalset.classes[normalset[i][1]]}\")\n",
    "    show_img(ax2 , denormalize(augSet[i][0]) , f\"aug___{augSet.classes[augSet[i][1]]}\")\n",
    "  \n",
    "visualizeAugmentation(trainset , dataset,no_of_images=20)"
   ]
  },
  {
   "cell_type": "markdown",
   "metadata": {
    "colab_type": "text",
    "id": "8a7ZC9HY4Bbk"
   },
   "source": [
    "## Utility Func"
   ]
  },
  {
   "cell_type": "markdown",
   "metadata": {
    "colab_type": "text",
    "id": "ql3sBtzE4Dz0"
   },
   "source": [
    "###  No grad\n"
   ]
  },
  {
   "cell_type": "code",
   "execution_count": 0,
   "metadata": {
    "colab": {},
    "colab_type": "code",
    "id": "4rEkwJ5WmNFC"
   },
   "outputs": [],
   "source": [
    "from functools import wraps\n",
    "\n",
    "def no_grad(func):\n",
    "  @wraps(func)\n",
    "  def wrapper(*args,**kwargs):\n",
    "    with torch.no_grad():\n",
    "      return func(*args,**kwargs)\n",
    "  return wrapper"
   ]
  },
  {
   "cell_type": "markdown",
   "metadata": {
    "colab_type": "text",
    "id": "Hm7Xe4gn4GLD"
   },
   "source": [
    "### Save Checkpoint"
   ]
  },
  {
   "cell_type": "code",
   "execution_count": 0,
   "metadata": {
    "colab": {},
    "colab_type": "code",
    "id": "ZjY8ffh94Gw1"
   },
   "outputs": [],
   "source": [
    "def save_checkpoint(epoch, epochs_since_improvement, model, optimizer,loss, best_loss, is_best,filepath=None):\n",
    "    \"\"\"\n",
    "    Save model checkpoint.\n",
    "\n",
    "    :param epoch: epoch number\n",
    "    :param epochs_since_improvement: number of epochs since last improvement\n",
    "    :param model: model\n",
    "    :param optimizer: optimizer\n",
    "    :param loss: validation loss in this epoch\n",
    "    :param best_loss: best validation loss achieved so far (not necessarily in this checkpoint)\n",
    "    :param is_best: is this checkpoint the best so far?\n",
    "    \"\"\"\n",
    "    state = {'epoch': epoch,\n",
    "             'epochs_since_improvement': epochs_since_improvement,\n",
    "             'loss': loss,\n",
    "             'best_loss': best_loss,\n",
    "             'model': model.state_dict(),\n",
    "             'optimizer': optimizer.state_dict()}\n",
    "    filename = Path(\"/gdrive/My Drive/DenseNet/checkpoint.pt\") if filepath is None else filepath\n",
    "    is_best = is_best if filepath is None else False\n",
    "    torch.save(state, filename)\n",
    "    # If this checkpoint is the best so far, store a copy so it doesn't get overwritten by a worse checkpoint\n",
    "    if is_best:\n",
    "        torch.save(state,   Path(\"/gdrive/My Drive/DenseNet/BEST_checkpoint.pt\"))"
   ]
  },
  {
   "cell_type": "markdown",
   "metadata": {
    "colab_type": "text",
    "id": "jBrxPkHlkNfO"
   },
   "source": [
    "## Model Definition"
   ]
  },
  {
   "cell_type": "markdown",
   "metadata": {
    "colab_type": "text",
    "id": "DQsGHwv64OfL"
   },
   "source": [
    "### Calculate Summary"
   ]
  },
  {
   "cell_type": "code",
   "execution_count": 0,
   "metadata": {
    "colab": {},
    "colab_type": "code",
    "id": "AZzF95NljYAL"
   },
   "outputs": [],
   "source": [
    "@no_grad\n",
    "def summary(model, input_size, batch_size=-1, device=\"cuda\"):\n",
    "\n",
    "    def register_hook(module):\n",
    "\n",
    "        def hook(module, input, output):\n",
    "            class_name = str(module.__class__).split(\".\")[-1].split(\"'\")[0]\n",
    "            module_idx = len(summary)\n",
    "\n",
    "            m_key = \"%s-%i\" % (class_name, module_idx + 1)\n",
    "            summary[m_key] = OrderedDict()\n",
    "            summary[m_key][\"input_shape\"] = list(input[0].size())\n",
    "            summary[m_key][\"input_shape\"][0] = batch_size\n",
    "            if isinstance(output, (list, tuple)):\n",
    "                summary[m_key][\"output_shape\"] = [\n",
    "                    [-1] + list(o.size())[1:] for o in output\n",
    "                ]\n",
    "            else:\n",
    "                summary[m_key][\"output_shape\"] = list(output.size())\n",
    "                summary[m_key][\"output_shape\"][0] = batch_size\n",
    "\n",
    "            params = 0\n",
    "            if hasattr(module, \"weight\") and hasattr(module.weight, \"size\"):\n",
    "                params += torch.prod(torch.LongTensor(list(module.weight.size())))\n",
    "                summary[m_key][\"trainable\"] = module.weight.requires_grad\n",
    "            if hasattr(module, \"bias\") and hasattr(module.bias, \"size\"):\n",
    "                params += torch.prod(torch.LongTensor(list(module.bias.size())))\n",
    "            summary[m_key][\"nb_params\"] = params\n",
    "\n",
    "        if (\n",
    "            not isinstance(module, nn.Sequential)\n",
    "            and not isinstance(module, nn.ModuleList)\n",
    "            and not (module == model)\n",
    "        ):\n",
    "            hooks.append(module.register_forward_hook(hook))\n",
    "\n",
    "    device = device.lower()\n",
    "    assert device in [\n",
    "        \"cuda\",\n",
    "        \"cpu\",\n",
    "    ], \"Input device is not valid, please specify 'cuda' or 'cpu'\"\n",
    "\n",
    "    if device == \"cuda\" and torch.cuda.is_available():\n",
    "        dtype = torch.cuda.FloatTensor\n",
    "    else:\n",
    "        dtype = torch.FloatTensor\n",
    "\n",
    "    # multiple inputs to the network\n",
    "    if isinstance(input_size, tuple):\n",
    "        input_size = [input_size]\n",
    "\n",
    "    # batch_size of 2 for batchnorm\n",
    "    x = [torch.rand(2, *in_size).type(dtype) for in_size in input_size]\n",
    "    # print(type(x[0]))\n",
    "\n",
    "    # create properties\n",
    "    summary = OrderedDict()\n",
    "    hooks = []\n",
    "    model = model.to(device)\n",
    "    # register hook\n",
    "    model.apply(register_hook)\n",
    "\n",
    "    # make a forward pass\n",
    "    # print(x.shape)\n",
    "    model(*x)\n",
    "\n",
    "    # remove these hooks\n",
    "    for h in hooks:\n",
    "        h.remove()\n",
    "\n",
    "    print(\"----------------------------------------------------------------\")\n",
    "    line_new = \"{:>20}  {:>25} {:>15}\".format(\"Layer (type)\", \"Output Shape\", \"Param #\")\n",
    "    print(line_new)\n",
    "    print(\"================================================================\")\n",
    "    total_params = 0\n",
    "    total_output = 0\n",
    "    trainable_params = 0\n",
    "    for layer in summary:\n",
    "        # input_shape, output_shape, trainable, nb_params\n",
    "        line_new = \"{:>20}  {:>25} {:>15}\".format(\n",
    "            layer,\n",
    "            str(summary[layer][\"output_shape\"]),\n",
    "            \"{0:,}\".format(summary[layer][\"nb_params\"]),\n",
    "        )\n",
    "        total_params += summary[layer][\"nb_params\"]\n",
    "        total_output += np.prod(summary[layer][\"output_shape\"])\n",
    "        if \"trainable\" in summary[layer]:\n",
    "            if summary[layer][\"trainable\"] == True:\n",
    "                trainable_params += summary[layer][\"nb_params\"]\n",
    "        print(line_new)\n",
    "\n",
    "    # assume 4 bytes/number (float on cuda).\n",
    "    total_input_size = abs(np.prod(input_size) * batch_size * 4. / (1024 ** 2.))\n",
    "    total_output_size = abs(2. * total_output * 4. / (1024 ** 2.))  # x2 for gradients\n",
    "    total_params_size = abs(total_params.numpy() * 4. / (1024 ** 2.))\n",
    "    total_size = total_params_size + total_output_size + total_input_size\n",
    "    \n",
    "    del model\n",
    "    \n",
    "    print(\"================================================================\")\n",
    "    print(\"Total params: {0:,}\".format(total_params))\n",
    "    print(\"Trainable params: {0:,}\".format(trainable_params))\n",
    "    print(\"Non-trainable params: {0:,}\".format(total_params - trainable_params))\n",
    "    print(\"----------------------------------------------------------------\")\n",
    "    print(\"Input size (MB): %0.2f\" % total_input_size)\n",
    "    print(\"Forward/backward pass size (MB): %0.2f\" % total_output_size)\n",
    "    print(\"Params size (MB): %0.2f\" % total_params_size)\n",
    "    print(\"Estimated Total Size (MB): %0.2f\" % total_size)\n",
    "    print(\"----------------------------------------------------------------\")\n",
    "    return total_params"
   ]
  },
  {
   "cell_type": "markdown",
   "metadata": {
    "colab_type": "text",
    "id": "M9gv2FgZ4Swm"
   },
   "source": [
    "### DenseNet-121 BC"
   ]
  },
  {
   "cell_type": "code",
   "execution_count": 0,
   "metadata": {
    "colab": {},
    "colab_type": "code",
    "id": "OVQ1ok8o5_U5"
   },
   "outputs": [],
   "source": [
    "\n",
    "class BottleNeck(nn.Module):\n",
    "  def __init__(self,num_channels,growth_rate,bn_size,drop_rate):\n",
    "    super(BottleNeck ,self).__init__()\n",
    "    mid_channel = int(bn_size*growth_rate)\n",
    "    self.bn1 = nn.BatchNorm2d(num_channels)\n",
    "    self.conv1 = nn.Conv2d(num_channels,mid_channel ,kernel_size=1 , bias=False)\n",
    "    self.bn2 = nn.BatchNorm2d(mid_channel)\n",
    "    self.conv2 = nn.Conv2d(mid_channel ,growth_rate , kernel_size=3 , bias=False,padding=1)\n",
    "    self.drop_rate=drop_rate\n",
    "    \n",
    "  def forward(self,x):\n",
    "    new_features = self.conv1(F.leaky_relu(self.bn1(x)))\n",
    "    new_features = self.conv2(F.leaky_relu(self.bn2(new_features)))\n",
    "    if self.drop_rate > 0:\n",
    "      new_features = F.dropout(new_features, p=self.drop_rate, training=self.training)\n",
    "    return torch.cat([x,new_features],1)"
   ]
  },
  {
   "cell_type": "code",
   "execution_count": 0,
   "metadata": {
    "colab": {
     "base_uri": "https://localhost:8080/",
     "height": 121
    },
    "colab_type": "code",
    "id": "mlidfKbRB3hu",
    "outputId": "cb559aad-9582-4930-f78b-b48b2b6bf34c"
   },
   "outputs": [
    {
     "data": {
      "text/plain": [
       "BottleNeck(\n",
       "  (bn1): BatchNorm2d(24, eps=1e-05, momentum=0.1, affine=True, track_running_stats=True)\n",
       "  (conv1): Conv2d(24, 48, kernel_size=(1, 1), stride=(1, 1), bias=False)\n",
       "  (bn2): BatchNorm2d(48, eps=1e-05, momentum=0.1, affine=True, track_running_stats=True)\n",
       "  (conv2): Conv2d(48, 12, kernel_size=(3, 3), stride=(1, 1), padding=(1, 1), bias=False)\n",
       ")"
      ]
     },
     "execution_count": 11,
     "metadata": {
      "tags": []
     },
     "output_type": "execute_result"
    }
   ],
   "source": [
    "\n",
    "\n",
    "\n",
    "# Bottle Neck test\n",
    "BottleNeck(24,12,4,0.3)"
   ]
  },
  {
   "cell_type": "code",
   "execution_count": 0,
   "metadata": {
    "colab": {},
    "colab_type": "code",
    "id": "Mc9eFbL1FQJ-"
   },
   "outputs": [],
   "source": [
    "class Transition(nn.Module):\n",
    "    def __init__(self, num_channels, num_out_channels):\n",
    "        super(Transition, self).__init__()\n",
    "        self.bn1 = nn.BatchNorm2d(num_channels)\n",
    "        self.conv1 = nn.Conv2d(num_channels, num_out_channels, kernel_size=1,\n",
    "                               bias=False)\n",
    "\n",
    "    def forward(self, x):\n",
    "        out = self.conv1(F.leaky_relu(self.bn1(x)))\n",
    "        out = F.avg_pool2d(out, 2)\n",
    "        return out"
   ]
  },
  {
   "cell_type": "code",
   "execution_count": 0,
   "metadata": {
    "colab": {},
    "colab_type": "code",
    "id": "idS34G13naR2"
   },
   "outputs": [],
   "source": [
    "class DenseNet(nn.Module):\n",
    "  \n",
    "  def __init__(self, growth_rate, depth, reduction , num_classes,bn_size=4,drop_rate=0.15):\n",
    "    super(DenseNet , self).__init__()\n",
    "    \n",
    "    no_of_dense_blocks = (depth-4)//6 #16\n",
    "    num_channels = 2*growth_rate #24\n",
    "    \n",
    "    self.conv1 = nn.Conv2d(3,num_channels , kernel_size=3 ,padding=1,bias=False) #first conv layer\n",
    "    \n",
    "    self.dense_block1 = self._gen_dense_block(num_channels , growth_rate, no_of_dense_blocks,bn_size,drop_rate) # first dense block\n",
    "    num_channels += no_of_dense_blocks * growth_rate\n",
    "    num_out_channels = int(math.floor(num_channels*reduction))\n",
    "    self.trans_block1 = Transition(num_channels , num_out_channels) #first transition block\n",
    "    \n",
    "    num_channels = num_out_channels\n",
    "    self.dense_block2 = self._gen_dense_block(num_channels , growth_rate, no_of_dense_blocks,bn_size,drop_rate) # second dense block\n",
    "    num_channels += no_of_dense_blocks * growth_rate\n",
    "    num_out_channels = int(math.floor(num_channels*reduction))\n",
    "    self.trans_block2 = Transition(num_channels , num_out_channels) #first transition block\n",
    "    \n",
    "    num_channels = num_out_channels\n",
    "    self.dense_block3 = self._gen_dense_block(num_channels , growth_rate, no_of_dense_blocks,bn_size,drop_rate) #third Dense block\n",
    "    num_channels += no_of_dense_blocks * growth_rate\n",
    "    \n",
    "    self.bn1 = nn.BatchNorm2d(num_channels) # final batch norm\n",
    "    self.pool = nn.AvgPool2d(kernel_size=8, stride=1, padding=0)\n",
    "\n",
    "    ## classifier\n",
    "    self.classifier = self.create_head(num_channels , num_classes)\n",
    "\n",
    "    for m in self.modules():\n",
    "      if isinstance(m, nn.Linear):\n",
    "        nn.init.constant_(m.bias, 0)\n",
    "                \n",
    "  def _gen_dense_block(self,num_channels , growth_rate, no_of_dense_blocks,bn_size,drop_rate):\n",
    "    return nn.Sequential(*[ BottleNeck(int(num_channels+i*growth_rate) , growth_rate,bn_size,drop_rate) for i in range(no_of_dense_blocks)]) \n",
    "  \n",
    "  def create_head(self,num_features , number_classes ,dropout_prob=0.15 ,activation_func =nn.LeakyReLU):\n",
    "    features_lst = [num_features , num_features//2 , num_features//4]\n",
    "    layers = []\n",
    "    for in_f ,out_f in zip(features_lst[:-1] , features_lst[1:]):\n",
    "      layers.append(nn.Linear(in_f , out_f))\n",
    "      layers.append(activation_func())\n",
    "      layers.append(nn.BatchNorm1d(out_f))\n",
    "      if dropout_prob !=0 : layers.append(nn.Dropout(dropout_prob))\n",
    "    layers.append(nn.Linear(features_lst[-1] , number_classes))\n",
    "    return nn.Sequential(*layers)\n",
    "\n",
    "  def forward(self,x):\n",
    "    x = self.conv1(x)\n",
    "    x = self.trans_block1(self.dense_block1(x))\n",
    "    x = self.trans_block2(self.dense_block2(x))\n",
    "    x = self.pool(F.leaky_relu(self.bn1(self.dense_block3(x))))\n",
    "    x = x.view(x.size(0) , -1)\n",
    "    x = self.classifier(x)\n",
    "    return x"
   ]
  },
  {
   "cell_type": "code",
   "execution_count": 0,
   "metadata": {
    "colab": {
     "base_uri": "https://localhost:8080/",
     "height": 4741
    },
    "colab_type": "code",
    "id": "lRgb94PgGegu",
    "outputId": "e94cc0ec-566d-489e-91fe-6cf43c17c8b5"
   },
   "outputs": [
    {
     "name": "stdout",
     "output_type": "stream",
     "text": [
      "----------------------------------------------------------------\n",
      "        Layer (type)               Output Shape         Param #\n",
      "================================================================\n",
      "            Conv2d-1           [-1, 24, 32, 32]             648\n",
      "       BatchNorm2d-2           [-1, 24, 32, 32]              48\n",
      "            Conv2d-3           [-1, 48, 32, 32]           1,152\n",
      "       BatchNorm2d-4           [-1, 48, 32, 32]              96\n",
      "            Conv2d-5           [-1, 12, 32, 32]           5,184\n",
      "        BottleNeck-6           [-1, 36, 32, 32]               0\n",
      "       BatchNorm2d-7           [-1, 36, 32, 32]              72\n",
      "            Conv2d-8           [-1, 48, 32, 32]           1,728\n",
      "       BatchNorm2d-9           [-1, 48, 32, 32]              96\n",
      "           Conv2d-10           [-1, 12, 32, 32]           5,184\n",
      "       BottleNeck-11           [-1, 48, 32, 32]               0\n",
      "      BatchNorm2d-12           [-1, 48, 32, 32]              96\n",
      "           Conv2d-13           [-1, 48, 32, 32]           2,304\n",
      "      BatchNorm2d-14           [-1, 48, 32, 32]              96\n",
      "           Conv2d-15           [-1, 12, 32, 32]           5,184\n",
      "       BottleNeck-16           [-1, 60, 32, 32]               0\n",
      "      BatchNorm2d-17           [-1, 60, 32, 32]             120\n",
      "           Conv2d-18           [-1, 48, 32, 32]           2,880\n",
      "      BatchNorm2d-19           [-1, 48, 32, 32]              96\n",
      "           Conv2d-20           [-1, 12, 32, 32]           5,184\n",
      "       BottleNeck-21           [-1, 72, 32, 32]               0\n",
      "      BatchNorm2d-22           [-1, 72, 32, 32]             144\n",
      "           Conv2d-23           [-1, 48, 32, 32]           3,456\n",
      "      BatchNorm2d-24           [-1, 48, 32, 32]              96\n",
      "           Conv2d-25           [-1, 12, 32, 32]           5,184\n",
      "       BottleNeck-26           [-1, 84, 32, 32]               0\n",
      "      BatchNorm2d-27           [-1, 84, 32, 32]             168\n",
      "           Conv2d-28           [-1, 48, 32, 32]           4,032\n",
      "      BatchNorm2d-29           [-1, 48, 32, 32]              96\n",
      "           Conv2d-30           [-1, 12, 32, 32]           5,184\n",
      "       BottleNeck-31           [-1, 96, 32, 32]               0\n",
      "      BatchNorm2d-32           [-1, 96, 32, 32]             192\n",
      "           Conv2d-33           [-1, 48, 32, 32]           4,608\n",
      "      BatchNorm2d-34           [-1, 48, 32, 32]              96\n",
      "           Conv2d-35           [-1, 12, 32, 32]           5,184\n",
      "       BottleNeck-36          [-1, 108, 32, 32]               0\n",
      "      BatchNorm2d-37          [-1, 108, 32, 32]             216\n",
      "           Conv2d-38           [-1, 48, 32, 32]           5,184\n",
      "      BatchNorm2d-39           [-1, 48, 32, 32]              96\n",
      "           Conv2d-40           [-1, 12, 32, 32]           5,184\n",
      "       BottleNeck-41          [-1, 120, 32, 32]               0\n",
      "      BatchNorm2d-42          [-1, 120, 32, 32]             240\n",
      "           Conv2d-43           [-1, 48, 32, 32]           5,760\n",
      "      BatchNorm2d-44           [-1, 48, 32, 32]              96\n",
      "           Conv2d-45           [-1, 12, 32, 32]           5,184\n",
      "       BottleNeck-46          [-1, 132, 32, 32]               0\n",
      "      BatchNorm2d-47          [-1, 132, 32, 32]             264\n",
      "           Conv2d-48           [-1, 48, 32, 32]           6,336\n",
      "      BatchNorm2d-49           [-1, 48, 32, 32]              96\n",
      "           Conv2d-50           [-1, 12, 32, 32]           5,184\n",
      "       BottleNeck-51          [-1, 144, 32, 32]               0\n",
      "      BatchNorm2d-52          [-1, 144, 32, 32]             288\n",
      "           Conv2d-53           [-1, 48, 32, 32]           6,912\n",
      "      BatchNorm2d-54           [-1, 48, 32, 32]              96\n",
      "           Conv2d-55           [-1, 12, 32, 32]           5,184\n",
      "       BottleNeck-56          [-1, 156, 32, 32]               0\n",
      "      BatchNorm2d-57          [-1, 156, 32, 32]             312\n",
      "           Conv2d-58           [-1, 48, 32, 32]           7,488\n",
      "      BatchNorm2d-59           [-1, 48, 32, 32]              96\n",
      "           Conv2d-60           [-1, 12, 32, 32]           5,184\n",
      "       BottleNeck-61          [-1, 168, 32, 32]               0\n",
      "      BatchNorm2d-62          [-1, 168, 32, 32]             336\n",
      "           Conv2d-63           [-1, 48, 32, 32]           8,064\n",
      "      BatchNorm2d-64           [-1, 48, 32, 32]              96\n",
      "           Conv2d-65           [-1, 12, 32, 32]           5,184\n",
      "       BottleNeck-66          [-1, 180, 32, 32]               0\n",
      "      BatchNorm2d-67          [-1, 180, 32, 32]             360\n",
      "           Conv2d-68           [-1, 48, 32, 32]           8,640\n",
      "      BatchNorm2d-69           [-1, 48, 32, 32]              96\n",
      "           Conv2d-70           [-1, 12, 32, 32]           5,184\n",
      "       BottleNeck-71          [-1, 192, 32, 32]               0\n",
      "      BatchNorm2d-72          [-1, 192, 32, 32]             384\n",
      "           Conv2d-73           [-1, 48, 32, 32]           9,216\n",
      "      BatchNorm2d-74           [-1, 48, 32, 32]              96\n",
      "           Conv2d-75           [-1, 12, 32, 32]           5,184\n",
      "       BottleNeck-76          [-1, 204, 32, 32]               0\n",
      "      BatchNorm2d-77          [-1, 204, 32, 32]             408\n",
      "           Conv2d-78           [-1, 48, 32, 32]           9,792\n",
      "      BatchNorm2d-79           [-1, 48, 32, 32]              96\n",
      "           Conv2d-80           [-1, 12, 32, 32]           5,184\n",
      "       BottleNeck-81          [-1, 216, 32, 32]               0\n",
      "      BatchNorm2d-82          [-1, 216, 32, 32]             432\n",
      "           Conv2d-83          [-1, 129, 32, 32]          27,864\n",
      "       Transition-84          [-1, 129, 16, 16]               0\n",
      "      BatchNorm2d-85          [-1, 129, 16, 16]             258\n",
      "           Conv2d-86           [-1, 48, 16, 16]           6,192\n",
      "      BatchNorm2d-87           [-1, 48, 16, 16]              96\n",
      "           Conv2d-88           [-1, 12, 16, 16]           5,184\n",
      "       BottleNeck-89          [-1, 141, 16, 16]               0\n",
      "      BatchNorm2d-90          [-1, 141, 16, 16]             282\n",
      "           Conv2d-91           [-1, 48, 16, 16]           6,768\n",
      "      BatchNorm2d-92           [-1, 48, 16, 16]              96\n",
      "           Conv2d-93           [-1, 12, 16, 16]           5,184\n",
      "       BottleNeck-94          [-1, 153, 16, 16]               0\n",
      "      BatchNorm2d-95          [-1, 153, 16, 16]             306\n",
      "           Conv2d-96           [-1, 48, 16, 16]           7,344\n",
      "      BatchNorm2d-97           [-1, 48, 16, 16]              96\n",
      "           Conv2d-98           [-1, 12, 16, 16]           5,184\n",
      "       BottleNeck-99          [-1, 165, 16, 16]               0\n",
      "     BatchNorm2d-100          [-1, 165, 16, 16]             330\n",
      "          Conv2d-101           [-1, 48, 16, 16]           7,920\n",
      "     BatchNorm2d-102           [-1, 48, 16, 16]              96\n",
      "          Conv2d-103           [-1, 12, 16, 16]           5,184\n",
      "      BottleNeck-104          [-1, 177, 16, 16]               0\n",
      "     BatchNorm2d-105          [-1, 177, 16, 16]             354\n",
      "          Conv2d-106           [-1, 48, 16, 16]           8,496\n",
      "     BatchNorm2d-107           [-1, 48, 16, 16]              96\n",
      "          Conv2d-108           [-1, 12, 16, 16]           5,184\n",
      "      BottleNeck-109          [-1, 189, 16, 16]               0\n",
      "     BatchNorm2d-110          [-1, 189, 16, 16]             378\n",
      "          Conv2d-111           [-1, 48, 16, 16]           9,072\n",
      "     BatchNorm2d-112           [-1, 48, 16, 16]              96\n",
      "          Conv2d-113           [-1, 12, 16, 16]           5,184\n",
      "      BottleNeck-114          [-1, 201, 16, 16]               0\n",
      "     BatchNorm2d-115          [-1, 201, 16, 16]             402\n",
      "          Conv2d-116           [-1, 48, 16, 16]           9,648\n",
      "     BatchNorm2d-117           [-1, 48, 16, 16]              96\n",
      "          Conv2d-118           [-1, 12, 16, 16]           5,184\n",
      "      BottleNeck-119          [-1, 213, 16, 16]               0\n",
      "     BatchNorm2d-120          [-1, 213, 16, 16]             426\n",
      "          Conv2d-121           [-1, 48, 16, 16]          10,224\n",
      "     BatchNorm2d-122           [-1, 48, 16, 16]              96\n",
      "          Conv2d-123           [-1, 12, 16, 16]           5,184\n",
      "      BottleNeck-124          [-1, 225, 16, 16]               0\n",
      "     BatchNorm2d-125          [-1, 225, 16, 16]             450\n",
      "          Conv2d-126           [-1, 48, 16, 16]          10,800\n",
      "     BatchNorm2d-127           [-1, 48, 16, 16]              96\n",
      "          Conv2d-128           [-1, 12, 16, 16]           5,184\n",
      "      BottleNeck-129          [-1, 237, 16, 16]               0\n",
      "     BatchNorm2d-130          [-1, 237, 16, 16]             474\n",
      "          Conv2d-131           [-1, 48, 16, 16]          11,376\n",
      "     BatchNorm2d-132           [-1, 48, 16, 16]              96\n",
      "          Conv2d-133           [-1, 12, 16, 16]           5,184\n",
      "      BottleNeck-134          [-1, 249, 16, 16]               0\n",
      "     BatchNorm2d-135          [-1, 249, 16, 16]             498\n",
      "          Conv2d-136           [-1, 48, 16, 16]          11,952\n",
      "     BatchNorm2d-137           [-1, 48, 16, 16]              96\n",
      "          Conv2d-138           [-1, 12, 16, 16]           5,184\n",
      "      BottleNeck-139          [-1, 261, 16, 16]               0\n",
      "     BatchNorm2d-140          [-1, 261, 16, 16]             522\n",
      "          Conv2d-141           [-1, 48, 16, 16]          12,528\n",
      "     BatchNorm2d-142           [-1, 48, 16, 16]              96\n",
      "          Conv2d-143           [-1, 12, 16, 16]           5,184\n",
      "      BottleNeck-144          [-1, 273, 16, 16]               0\n",
      "     BatchNorm2d-145          [-1, 273, 16, 16]             546\n",
      "          Conv2d-146           [-1, 48, 16, 16]          13,104\n",
      "     BatchNorm2d-147           [-1, 48, 16, 16]              96\n",
      "          Conv2d-148           [-1, 12, 16, 16]           5,184\n",
      "      BottleNeck-149          [-1, 285, 16, 16]               0\n",
      "     BatchNorm2d-150          [-1, 285, 16, 16]             570\n",
      "          Conv2d-151           [-1, 48, 16, 16]          13,680\n",
      "     BatchNorm2d-152           [-1, 48, 16, 16]              96\n",
      "          Conv2d-153           [-1, 12, 16, 16]           5,184\n",
      "      BottleNeck-154          [-1, 297, 16, 16]               0\n",
      "     BatchNorm2d-155          [-1, 297, 16, 16]             594\n",
      "          Conv2d-156           [-1, 48, 16, 16]          14,256\n",
      "     BatchNorm2d-157           [-1, 48, 16, 16]              96\n",
      "          Conv2d-158           [-1, 12, 16, 16]           5,184\n",
      "      BottleNeck-159          [-1, 309, 16, 16]               0\n",
      "     BatchNorm2d-160          [-1, 309, 16, 16]             618\n",
      "          Conv2d-161           [-1, 48, 16, 16]          14,832\n",
      "     BatchNorm2d-162           [-1, 48, 16, 16]              96\n",
      "          Conv2d-163           [-1, 12, 16, 16]           5,184\n",
      "      BottleNeck-164          [-1, 321, 16, 16]               0\n",
      "     BatchNorm2d-165          [-1, 321, 16, 16]             642\n",
      "          Conv2d-166          [-1, 192, 16, 16]          61,632\n",
      "      Transition-167            [-1, 192, 8, 8]               0\n",
      "     BatchNorm2d-168            [-1, 192, 8, 8]             384\n",
      "          Conv2d-169             [-1, 48, 8, 8]           9,216\n",
      "     BatchNorm2d-170             [-1, 48, 8, 8]              96\n",
      "          Conv2d-171             [-1, 12, 8, 8]           5,184\n",
      "      BottleNeck-172            [-1, 204, 8, 8]               0\n",
      "     BatchNorm2d-173            [-1, 204, 8, 8]             408\n",
      "          Conv2d-174             [-1, 48, 8, 8]           9,792\n",
      "     BatchNorm2d-175             [-1, 48, 8, 8]              96\n",
      "          Conv2d-176             [-1, 12, 8, 8]           5,184\n",
      "      BottleNeck-177            [-1, 216, 8, 8]               0\n",
      "     BatchNorm2d-178            [-1, 216, 8, 8]             432\n",
      "          Conv2d-179             [-1, 48, 8, 8]          10,368\n",
      "     BatchNorm2d-180             [-1, 48, 8, 8]              96\n",
      "          Conv2d-181             [-1, 12, 8, 8]           5,184\n",
      "      BottleNeck-182            [-1, 228, 8, 8]               0\n",
      "     BatchNorm2d-183            [-1, 228, 8, 8]             456\n",
      "          Conv2d-184             [-1, 48, 8, 8]          10,944\n",
      "     BatchNorm2d-185             [-1, 48, 8, 8]              96\n",
      "          Conv2d-186             [-1, 12, 8, 8]           5,184\n",
      "      BottleNeck-187            [-1, 240, 8, 8]               0\n",
      "     BatchNorm2d-188            [-1, 240, 8, 8]             480\n",
      "          Conv2d-189             [-1, 48, 8, 8]          11,520\n",
      "     BatchNorm2d-190             [-1, 48, 8, 8]              96\n",
      "          Conv2d-191             [-1, 12, 8, 8]           5,184\n",
      "      BottleNeck-192            [-1, 252, 8, 8]               0\n",
      "     BatchNorm2d-193            [-1, 252, 8, 8]             504\n",
      "          Conv2d-194             [-1, 48, 8, 8]          12,096\n",
      "     BatchNorm2d-195             [-1, 48, 8, 8]              96\n",
      "          Conv2d-196             [-1, 12, 8, 8]           5,184\n",
      "      BottleNeck-197            [-1, 264, 8, 8]               0\n",
      "     BatchNorm2d-198            [-1, 264, 8, 8]             528\n",
      "          Conv2d-199             [-1, 48, 8, 8]          12,672\n",
      "     BatchNorm2d-200             [-1, 48, 8, 8]              96\n",
      "          Conv2d-201             [-1, 12, 8, 8]           5,184\n",
      "      BottleNeck-202            [-1, 276, 8, 8]               0\n",
      "     BatchNorm2d-203            [-1, 276, 8, 8]             552\n",
      "          Conv2d-204             [-1, 48, 8, 8]          13,248\n",
      "     BatchNorm2d-205             [-1, 48, 8, 8]              96\n",
      "          Conv2d-206             [-1, 12, 8, 8]           5,184\n",
      "      BottleNeck-207            [-1, 288, 8, 8]               0\n",
      "     BatchNorm2d-208            [-1, 288, 8, 8]             576\n",
      "          Conv2d-209             [-1, 48, 8, 8]          13,824\n",
      "     BatchNorm2d-210             [-1, 48, 8, 8]              96\n",
      "          Conv2d-211             [-1, 12, 8, 8]           5,184\n",
      "      BottleNeck-212            [-1, 300, 8, 8]               0\n",
      "     BatchNorm2d-213            [-1, 300, 8, 8]             600\n",
      "          Conv2d-214             [-1, 48, 8, 8]          14,400\n",
      "     BatchNorm2d-215             [-1, 48, 8, 8]              96\n",
      "          Conv2d-216             [-1, 12, 8, 8]           5,184\n",
      "      BottleNeck-217            [-1, 312, 8, 8]               0\n",
      "     BatchNorm2d-218            [-1, 312, 8, 8]             624\n",
      "          Conv2d-219             [-1, 48, 8, 8]          14,976\n",
      "     BatchNorm2d-220             [-1, 48, 8, 8]              96\n",
      "          Conv2d-221             [-1, 12, 8, 8]           5,184\n",
      "      BottleNeck-222            [-1, 324, 8, 8]               0\n",
      "     BatchNorm2d-223            [-1, 324, 8, 8]             648\n",
      "          Conv2d-224             [-1, 48, 8, 8]          15,552\n",
      "     BatchNorm2d-225             [-1, 48, 8, 8]              96\n",
      "          Conv2d-226             [-1, 12, 8, 8]           5,184\n",
      "      BottleNeck-227            [-1, 336, 8, 8]               0\n",
      "     BatchNorm2d-228            [-1, 336, 8, 8]             672\n",
      "          Conv2d-229             [-1, 48, 8, 8]          16,128\n",
      "     BatchNorm2d-230             [-1, 48, 8, 8]              96\n",
      "          Conv2d-231             [-1, 12, 8, 8]           5,184\n",
      "      BottleNeck-232            [-1, 348, 8, 8]               0\n",
      "     BatchNorm2d-233            [-1, 348, 8, 8]             696\n",
      "          Conv2d-234             [-1, 48, 8, 8]          16,704\n",
      "     BatchNorm2d-235             [-1, 48, 8, 8]              96\n",
      "          Conv2d-236             [-1, 12, 8, 8]           5,184\n",
      "      BottleNeck-237            [-1, 360, 8, 8]               0\n",
      "     BatchNorm2d-238            [-1, 360, 8, 8]             720\n",
      "          Conv2d-239             [-1, 48, 8, 8]          17,280\n",
      "     BatchNorm2d-240             [-1, 48, 8, 8]              96\n",
      "          Conv2d-241             [-1, 12, 8, 8]           5,184\n",
      "      BottleNeck-242            [-1, 372, 8, 8]               0\n",
      "     BatchNorm2d-243            [-1, 372, 8, 8]             744\n",
      "          Conv2d-244             [-1, 48, 8, 8]          17,856\n",
      "     BatchNorm2d-245             [-1, 48, 8, 8]              96\n",
      "          Conv2d-246             [-1, 12, 8, 8]           5,184\n",
      "      BottleNeck-247            [-1, 384, 8, 8]               0\n",
      "     BatchNorm2d-248            [-1, 384, 8, 8]             768\n",
      "       AvgPool2d-249            [-1, 384, 1, 1]               0\n",
      "          Linear-250                  [-1, 192]          73,920\n",
      "       LeakyReLU-251                  [-1, 192]               0\n",
      "     BatchNorm1d-252                  [-1, 192]             384\n",
      "         Dropout-253                  [-1, 192]               0\n",
      "          Linear-254                   [-1, 96]          18,528\n",
      "       LeakyReLU-255                   [-1, 96]               0\n",
      "     BatchNorm1d-256                   [-1, 96]             192\n",
      "         Dropout-257                   [-1, 96]               0\n",
      "          Linear-258                   [-1, 10]             970\n",
      "================================================================\n",
      "Total params: 931,420\n",
      "Trainable params: 931,420\n",
      "Non-trainable params: 0\n",
      "----------------------------------------------------------------\n",
      "Input size (MB): 0.01\n",
      "Forward/backward pass size (MB): 70.71\n",
      "Params size (MB): 3.55\n",
      "Estimated Total Size (MB): 74.28\n",
      "----------------------------------------------------------------\n"
     ]
    },
    {
     "data": {
      "text/plain": [
       "tensor(931420)"
      ]
     },
     "execution_count": 14,
     "metadata": {
      "tags": []
     },
     "output_type": "execute_result"
    }
   ],
   "source": [
    "totalparams = summary(DenseNet(growth_rate=12, depth=100, reduction=0.6 , num_classes=len(trainset.classes)),(3,32,32));totalparams"
   ]
  },
  {
   "cell_type": "markdown",
   "metadata": {
    "colab_type": "text",
    "id": "J852kdrwwkuL"
   },
   "source": [
    "##  Parameters"
   ]
  },
  {
   "cell_type": "code",
   "execution_count": 0,
   "metadata": {
    "colab": {},
    "colab_type": "code",
    "id": "VfLU3OGytkwA"
   },
   "outputs": [],
   "source": [
    "batch_size=32\n",
    "checkpoint = Path(\"/gdrive/My Drive/DenseNet/BEST_checkpoint.pt\")\n",
    "start_epoch = 0  # start at this epoch\n",
    "epochs = 50  # number of epochs to run without early-stopping\n",
    "epochs_since_improvement = 0  # number of epochs since there was an improvement in the validation metric\n",
    "best_loss = 100.  # assume a high loss at first\n",
    "workers = 4  # number of workers for loading data in the DataLoader\n",
    "lr = 0.01  # learning rate\n",
    "weight_decay = 1e-4  # weight decay\n",
    "n_classes = len(trainset.classes)"
   ]
  },
  {
   "cell_type": "markdown",
   "metadata": {
    "colab_type": "text",
    "id": "hVcOsyhPymrV"
   },
   "source": [
    "## DataLoader"
   ]
  },
  {
   "cell_type": "code",
   "execution_count": 0,
   "metadata": {
    "colab": {},
    "colab_type": "code",
    "id": "d701UneUylBt"
   },
   "outputs": [],
   "source": [
    "loader_param = { \"batch_size\":batch_size,\n",
    "                 \"pin_memory\":True,\n",
    "                 \"num_workers\":workers,\n",
    "                \"shuffle\":True}\n",
    "\n",
    "trainLoader = DataLoader(trainset,**loader_param)\n",
    "\n",
    "valLoader = DataLoader(valset  ,**loader_param)\n"
   ]
  },
  {
   "cell_type": "markdown",
   "metadata": {
    "colab_type": "text",
    "id": "aEfPR8LZ1f_N"
   },
   "source": [
    "## Averge Meter"
   ]
  },
  {
   "cell_type": "code",
   "execution_count": 0,
   "metadata": {
    "colab": {},
    "colab_type": "code",
    "id": "FCpuPGJC09l4"
   },
   "outputs": [],
   "source": [
    "class AverageMeter(object):\n",
    "    \"\"\"\n",
    "    Keeps track of most recent, average, sum, and count of a metric.\n",
    "    \"\"\"\n",
    "\n",
    "    def __init__(self):\n",
    "        self.reset()\n",
    "\n",
    "    def reset(self):\n",
    "        self.val = 0\n",
    "        self.avg = 0\n",
    "        self.sum = 0\n",
    "        self.count = 0\n",
    "\n",
    "    def update(self, val, n=1):\n",
    "        self.val = val\n",
    "        self.sum += val * n\n",
    "        self.count += n\n",
    "        self.avg = self.sum / self.count"
   ]
  },
  {
   "cell_type": "markdown",
   "metadata": {
    "colab_type": "text",
    "id": "Nnkhq33F12o-"
   },
   "source": [
    "## Train method"
   ]
  },
  {
   "cell_type": "code",
   "execution_count": 0,
   "metadata": {
    "colab": {},
    "colab_type": "code",
    "id": "AWlR5yB41iQB"
   },
   "outputs": [],
   "source": [
    "def train(train_loader, model, criterion, optimizer, epoch):\n",
    "    \"\"\"\n",
    "    One epoch's training.\n",
    "\n",
    "    :param train_loader: DataLoader for training data\n",
    "    :param model: model\n",
    "    :param criterion: CrossEntropy loss\n",
    "    :param optimizer :optimizer\n",
    "    :param epoch: epoch number\n",
    "    \"\"\"\n",
    "    model.train()  # training mode enables dropout\n",
    "\n",
    "    losses = AverageMeter()  # loss\n",
    "    accuracy = AverageMeter() # Accuracy meter\n",
    "\n",
    "    # Batches\n",
    "    for images, labels in train_loader:\n",
    "      \n",
    "        optimizer.zero_grad()\n",
    "        # Move to default device\n",
    "        images = images.to(device) \n",
    "        labels = labels.to(device)\n",
    "\n",
    "        # Forward prop.\n",
    "        output = model(images)  \n",
    "        preds = torch.argmax(output,1)\n",
    "        # Loss\n",
    "        loss = criterion(output, labels)  # scalar\n",
    "\n",
    "        \n",
    "        loss.backward()\n",
    "        \n",
    "        \n",
    "        optimizer.step()\n",
    "\n",
    "        losses.update(loss.item(), images.shape[0])\n",
    "        accuracy.update(torch.sum(preds == labels.data).item())\n",
    "        \n",
    "        # Print status\n",
    "    print(f\"TRAIN  Loss {losses.avg}\\t Accuracy {accuracy.sum/len(train_loader.dataset)}\")\n",
    "    return losses.avg"
   ]
  },
  {
   "cell_type": "markdown",
   "metadata": {
    "colab_type": "text",
    "id": "8Q24ZWFa30tN"
   },
   "source": [
    "## Validation method"
   ]
  },
  {
   "cell_type": "code",
   "execution_count": 0,
   "metadata": {
    "colab": {},
    "colab_type": "code",
    "id": "0r6Ah7RE3z5Z"
   },
   "outputs": [],
   "source": [
    "@no_grad\n",
    "def validate(val_loader, model, criterion):\n",
    "    \"\"\"\n",
    "    One epoch's validation.\n",
    "\n",
    "    :param val_loader: DataLoader for training data\n",
    "    :param model: model\n",
    "    :param criterion: CrossEntropy loss\n",
    "    \"\"\"\n",
    "    model.eval()  # inference mode enables dropout\n",
    "\n",
    "    losses = AverageMeter()  # loss\n",
    "    accuracy = AverageMeter() # Accuracy meter\n",
    "\n",
    "    # Batches\n",
    "    for images, labels in val_loader:\n",
    "\n",
    "        # Move to default device\n",
    "        images = images.to(device) \n",
    "        labels = labels.to(device)\n",
    "\n",
    "        # Forward prop.\n",
    "        output = model(images) \n",
    "        preds = torch.argmax(output,1)\n",
    "        # Loss\n",
    "        loss = criterion(output, labels)  # scalar\n",
    "\n",
    "        losses.update(loss.item(), images.shape[0])\n",
    "        accuracy.update(torch.sum(preds == labels.data).item())\n",
    "        \n",
    "\n",
    "        # Print status\n",
    "    print(f\"VAL  Loss {losses.avg}\\t Accuracy {accuracy.sum/len(val_loader.dataset)}\")\n",
    "    return losses.avg"
   ]
  },
  {
   "cell_type": "markdown",
   "metadata": {
    "colab_type": "text",
    "id": "AgIH2LpH5E6Q"
   },
   "source": [
    "## Training"
   ]
  },
  {
   "cell_type": "code",
   "execution_count": 0,
   "metadata": {
    "colab": {},
    "colab_type": "code",
    "id": "N3QjXX7A5AK2"
   },
   "outputs": [],
   "source": [
    "from tqdm import trange\n",
    "def main(epochs):\n",
    "  \"\"\"\n",
    "  \n",
    "  Training and validation.\n",
    "  \"\"\"\n",
    "  global epochs_since_improvement, start_epoch, best_loss, checkpoint\n",
    "  model = DenseNet(growth_rate=12, depth=100, reduction=0.6 , num_classes=n_classes)\n",
    "  model = model.to(device)\n",
    "\n",
    "  # specify loss function (categorical cross-entropy)\n",
    "  criterion = nn.CrossEntropyLoss()\n",
    "\n",
    "  # specify optimizer\n",
    "  optimizer = optim.SGD(model.parameters(), lr=lr,weight_decay=weight_decay,momentum=0.9,nesterov=True,dampening=0)\n",
    "  scheduler = lr_scheduler.ReduceLROnPlateau(optimizer, 'min',patience=4,min_lr=1e-5,verbose=True)\n",
    "  \n",
    "  # Initialize model or load checkpoint\n",
    "  if checkpoint.exists():\n",
    "    checkpoint_dict = torch.load(checkpoint)\n",
    "    start_epoch = checkpoint_dict['epoch'] + 1\n",
    "    epochs_since_improvement = checkpoint_dict['epochs_since_improvement']\n",
    "    best_loss = checkpoint_dict['best_loss']\n",
    "    print('\\nLoaded checkpoint from epoch %d. Best loss so far is %.3f.\\n' % (start_epoch, best_loss))\n",
    "    model.load_state_dict(checkpoint_dict['model'])\n",
    "    optimizer.load_state_dict(checkpoint_dict['optimizer']) \n",
    "\n",
    "  # Epochs\n",
    "  for epoch in trange(start_epoch,start_epoch+epochs):\n",
    "      print(\"Current LR is \" , optimizer.param_groups[0]['lr'])\n",
    "      # One epoch's training\n",
    "      train_loss = train(train_loader=trainLoader,\n",
    "                         model=model,\n",
    "                         criterion=criterion,\n",
    "                         optimizer=optimizer,\n",
    "                         epoch=epoch)\n",
    "\n",
    "      # One epoch's validation\n",
    "      val_loss = validate(val_loader=valLoader,\n",
    "                          model=model,\n",
    "                          criterion=criterion)\n",
    "      scheduler.step(val_loss)\n",
    "      # Did validation loss improve?\n",
    "      is_best = val_loss < best_loss\n",
    "      best_loss = min(val_loss, best_loss)\n",
    "\n",
    "      if not is_best:\n",
    "          epochs_since_improvement += 1\n",
    "          print(\"\\nEpochs since last improvement: %d\\n\" % (epochs_since_improvement,))\n",
    "\n",
    "      else:\n",
    "          epochs_since_improvement = 0\n",
    "\n",
    "      # Save checkpoint\n",
    "      save_checkpoint(epoch, epochs_since_improvement, model, optimizer, train_loss, best_loss, is_best)\n",
    "  return model"
   ]
  },
  {
   "cell_type": "code",
   "execution_count": 0,
   "metadata": {
    "colab": {
     "base_uri": "https://localhost:8080/",
     "height": 5088
    },
    "colab_type": "code",
    "id": "gKBs7y-Q8BHm",
    "outputId": "a9bdb7b1-2491-442a-9859-e531f2894fb7"
   },
   "outputs": [
    {
     "name": "stderr",
     "output_type": "stream",
     "text": [
      "\n",
      "  0%|          | 0/50 [00:00<?, ?it/s]\u001b[A"
     ]
    },
    {
     "name": "stdout",
     "output_type": "stream",
     "text": [
      "Current LR is  0.01\n"
     ]
    },
    {
     "name": "stderr",
     "output_type": "stream",
     "text": [
      "\r",
      "170500096it [03:00, 837641.34it/s]                               "
     ]
    },
    {
     "name": "stdout",
     "output_type": "stream",
     "text": [
      "TRAIN  Loss 1.4814895293998718\t Accuracy 0.45446\n",
      "VAL  Loss 1.3288366510391236\t Accuracy 0.527\n"
     ]
    },
    {
     "name": "stderr",
     "output_type": "stream",
     "text": [
      "\n",
      "  2%|▏         | 1/50 [06:05<4:58:24, 365.40s/it]\u001b[A"
     ]
    },
    {
     "name": "stdout",
     "output_type": "stream",
     "text": [
      "Current LR is  0.01\n",
      "TRAIN  Loss 1.0549894808197022\t Accuracy 0.62494\n",
      "VAL  Loss 0.9044517506599427\t Accuracy 0.6814\n"
     ]
    },
    {
     "name": "stderr",
     "output_type": "stream",
     "text": [
      "\n",
      "  4%|▍         | 2/50 [12:10<4:52:18, 365.38s/it]\u001b[A"
     ]
    },
    {
     "name": "stdout",
     "output_type": "stream",
     "text": [
      "Current LR is  0.01\n",
      "TRAIN  Loss 0.8834607398605346\t Accuracy 0.68922\n",
      "VAL  Loss 0.7541330414772034\t Accuracy 0.7345\n"
     ]
    },
    {
     "name": "stderr",
     "output_type": "stream",
     "text": [
      "\n",
      "  6%|▌         | 3/50 [18:16<4:46:12, 365.38s/it]\u001b[A"
     ]
    },
    {
     "name": "stdout",
     "output_type": "stream",
     "text": [
      "Current LR is  0.01\n",
      "TRAIN  Loss 0.7612942564964295\t Accuracy 0.7346\n",
      "VAL  Loss 0.6390506618976594\t Accuracy 0.7763\n"
     ]
    },
    {
     "name": "stderr",
     "output_type": "stream",
     "text": [
      "\n",
      "  8%|▊         | 4/50 [24:20<4:39:57, 365.16s/it]\u001b[A"
     ]
    },
    {
     "name": "stdout",
     "output_type": "stream",
     "text": [
      "Current LR is  0.01\n",
      "TRAIN  Loss 0.6769971166706085\t Accuracy 0.76546\n",
      "VAL  Loss 0.5755218473434448\t Accuracy 0.8032\n"
     ]
    },
    {
     "name": "stderr",
     "output_type": "stream",
     "text": [
      "\n",
      " 10%|█         | 5/50 [30:26<4:33:56, 365.25s/it]\u001b[A"
     ]
    },
    {
     "name": "stdout",
     "output_type": "stream",
     "text": [
      "Current LR is  0.01\n",
      "TRAIN  Loss 0.615079960489273\t Accuracy 0.79086\n",
      "VAL  Loss 0.5090750930309296\t Accuracy 0.8245\n"
     ]
    },
    {
     "name": "stderr",
     "output_type": "stream",
     "text": [
      "\n",
      " 12%|█▏        | 6/50 [36:31<4:27:57, 365.40s/it]\u001b[A"
     ]
    },
    {
     "name": "stdout",
     "output_type": "stream",
     "text": [
      "Current LR is  0.01\n",
      "TRAIN  Loss 0.5613024745035171\t Accuracy 0.80828\n",
      "VAL  Loss 0.5546239868879318\t Accuracy 0.8082\n",
      "\n",
      "Epochs since last improvement: 1\n",
      "\n"
     ]
    },
    {
     "name": "stderr",
     "output_type": "stream",
     "text": [
      "\n",
      " 14%|█▍        | 7/50 [42:37<4:21:48, 365.32s/it]\u001b[A"
     ]
    },
    {
     "name": "stdout",
     "output_type": "stream",
     "text": [
      "Current LR is  0.01\n",
      "TRAIN  Loss 0.5302954343700409\t Accuracy 0.81734\n",
      "VAL  Loss 0.477622967338562\t Accuracy 0.8372\n"
     ]
    },
    {
     "name": "stderr",
     "output_type": "stream",
     "text": [
      "\n",
      " 16%|█▌        | 8/50 [48:42<4:15:47, 365.42s/it]\u001b[A"
     ]
    },
    {
     "name": "stdout",
     "output_type": "stream",
     "text": [
      "Current LR is  0.01\n",
      "TRAIN  Loss 0.498036792345047\t Accuracy 0.82974\n",
      "VAL  Loss 0.5389760755062103\t Accuracy 0.8166\n",
      "\n",
      "Epochs since last improvement: 1\n",
      "\n"
     ]
    },
    {
     "name": "stderr",
     "output_type": "stream",
     "text": [
      "\n",
      " 18%|█▊        | 9/50 [54:47<4:09:39, 365.36s/it]\u001b[A"
     ]
    },
    {
     "name": "stdout",
     "output_type": "stream",
     "text": [
      "Current LR is  0.01\n",
      "TRAIN  Loss 0.47187709329605104\t Accuracy 0.83914\n",
      "VAL  Loss 0.4390202054977417\t Accuracy 0.8501\n"
     ]
    },
    {
     "name": "stderr",
     "output_type": "stream",
     "text": [
      "\n",
      " 20%|██        | 10/50 [1:00:53<4:03:37, 365.43s/it]\u001b[A"
     ]
    },
    {
     "name": "stdout",
     "output_type": "stream",
     "text": [
      "Current LR is  0.01\n",
      "TRAIN  Loss 0.4516995756053925\t Accuracy 0.84466\n",
      "VAL  Loss 0.5565335884094238\t Accuracy 0.8107\n",
      "\n",
      "Epochs since last improvement: 1\n",
      "\n"
     ]
    },
    {
     "name": "stderr",
     "output_type": "stream",
     "text": [
      "\n",
      " 22%|██▏       | 11/50 [1:06:58<3:57:31, 365.41s/it]\u001b[A"
     ]
    },
    {
     "name": "stdout",
     "output_type": "stream",
     "text": [
      "Current LR is  0.01\n",
      "TRAIN  Loss 0.43321028273582457\t Accuracy 0.85358\n",
      "VAL  Loss 0.41325833265781403\t Accuracy 0.8573\n"
     ]
    },
    {
     "name": "stderr",
     "output_type": "stream",
     "text": [
      "\n",
      " 24%|██▍       | 12/50 [1:13:04<3:51:30, 365.53s/it]\u001b[A"
     ]
    },
    {
     "name": "stdout",
     "output_type": "stream",
     "text": [
      "Current LR is  0.01\n",
      "TRAIN  Loss 0.4141558735227585\t Accuracy 0.85928\n",
      "VAL  Loss 0.40378687686920167\t Accuracy 0.8608\n"
     ]
    },
    {
     "name": "stderr",
     "output_type": "stream",
     "text": [
      "\n",
      " 26%|██▌       | 13/50 [1:19:10<3:45:28, 365.64s/it]\u001b[A"
     ]
    },
    {
     "name": "stdout",
     "output_type": "stream",
     "text": [
      "Current LR is  0.01\n",
      "TRAIN  Loss 0.40264438740730285\t Accuracy 0.86192\n",
      "VAL  Loss 0.3780103269338608\t Accuracy 0.8696\n"
     ]
    },
    {
     "name": "stderr",
     "output_type": "stream",
     "text": [
      "\n",
      " 28%|██▊       | 14/50 [1:25:16<3:39:21, 365.61s/it]\u001b[A"
     ]
    },
    {
     "name": "stdout",
     "output_type": "stream",
     "text": [
      "Current LR is  0.01\n",
      "TRAIN  Loss 0.3849474116373062\t Accuracy 0.86962\n",
      "VAL  Loss 0.385879211640358\t Accuracy 0.8687\n",
      "\n",
      "Epochs since last improvement: 1\n",
      "\n"
     ]
    },
    {
     "name": "stderr",
     "output_type": "stream",
     "text": [
      "\n",
      " 30%|███       | 15/50 [1:31:21<3:33:15, 365.59s/it]\u001b[A"
     ]
    },
    {
     "name": "stdout",
     "output_type": "stream",
     "text": [
      "Current LR is  0.01\n",
      "TRAIN  Loss 0.3752863410615921\t Accuracy 0.87202\n",
      "VAL  Loss 0.36310962529182433\t Accuracy 0.8781\n"
     ]
    },
    {
     "name": "stderr",
     "output_type": "stream",
     "text": [
      "\n",
      " 32%|███▏      | 16/50 [1:37:27<3:27:10, 365.60s/it]\u001b[A"
     ]
    },
    {
     "name": "stdout",
     "output_type": "stream",
     "text": [
      "Current LR is  0.01\n",
      "TRAIN  Loss 0.36001025017261507\t Accuracy 0.8781\n",
      "VAL  Loss 0.38254150421619415\t Accuracy 0.8703\n",
      "\n",
      "Epochs since last improvement: 1\n",
      "\n"
     ]
    },
    {
     "name": "stderr",
     "output_type": "stream",
     "text": [
      "\n",
      " 34%|███▍      | 17/50 [1:43:32<3:20:57, 365.38s/it]\u001b[A"
     ]
    },
    {
     "name": "stdout",
     "output_type": "stream",
     "text": [
      "Current LR is  0.01\n",
      "TRAIN  Loss 0.3490260129261017\t Accuracy 0.88132\n",
      "VAL  Loss 0.3630263813734055\t Accuracy 0.8794\n"
     ]
    },
    {
     "name": "stderr",
     "output_type": "stream",
     "text": [
      "\n",
      " 36%|███▌      | 18/50 [1:49:36<3:14:42, 365.08s/it]\u001b[A"
     ]
    },
    {
     "name": "stdout",
     "output_type": "stream",
     "text": [
      "Current LR is  0.01\n",
      "TRAIN  Loss 0.3403261285543442\t Accuracy 0.88352\n",
      "VAL  Loss 0.3569094528913498\t Accuracy 0.8801\n"
     ]
    },
    {
     "name": "stderr",
     "output_type": "stream",
     "text": [
      "\n",
      " 38%|███▊      | 19/50 [1:55:41<3:08:33, 364.94s/it]\u001b[A"
     ]
    },
    {
     "name": "stdout",
     "output_type": "stream",
     "text": [
      "Current LR is  0.01\n",
      "TRAIN  Loss 0.3295834201192856\t Accuracy 0.88836\n",
      "VAL  Loss 0.3395621663093567\t Accuracy 0.8881\n"
     ]
    },
    {
     "name": "stderr",
     "output_type": "stream",
     "text": [
      "\n",
      " 40%|████      | 20/50 [2:01:46<3:02:31, 365.06s/it]\u001b[A"
     ]
    },
    {
     "name": "stdout",
     "output_type": "stream",
     "text": [
      "Current LR is  0.01\n",
      "TRAIN  Loss 0.32278737534999846\t Accuracy 0.89016\n",
      "VAL  Loss 0.36254207494258883\t Accuracy 0.8751\n",
      "\n",
      "Epochs since last improvement: 1\n",
      "\n"
     ]
    },
    {
     "name": "stderr",
     "output_type": "stream",
     "text": [
      "\n",
      " 42%|████▏     | 21/50 [2:07:51<2:56:28, 365.12s/it]\u001b[A"
     ]
    },
    {
     "name": "stdout",
     "output_type": "stream",
     "text": [
      "Current LR is  0.01\n",
      "TRAIN  Loss 0.3133104618358612\t Accuracy 0.89438\n",
      "VAL  Loss 0.3379834243297577\t Accuracy 0.89\n"
     ]
    },
    {
     "name": "stderr",
     "output_type": "stream",
     "text": [
      "\n",
      " 44%|████▍     | 22/50 [2:13:57<2:50:29, 365.34s/it]\u001b[A"
     ]
    },
    {
     "name": "stdout",
     "output_type": "stream",
     "text": [
      "Current LR is  0.01\n",
      "TRAIN  Loss 0.311785293841362\t Accuracy 0.89226\n",
      "VAL  Loss 0.3090751298427582\t Accuracy 0.8971\n"
     ]
    },
    {
     "name": "stderr",
     "output_type": "stream",
     "text": [
      "\n",
      " 46%|████▌     | 23/50 [2:20:03<2:44:27, 365.45s/it]\u001b[A"
     ]
    },
    {
     "name": "stdout",
     "output_type": "stream",
     "text": [
      "Current LR is  0.01\n",
      "TRAIN  Loss 0.3044917695426941\t Accuracy 0.89464\n",
      "VAL  Loss 0.33605485107898714\t Accuracy 0.8861\n",
      "\n",
      "Epochs since last improvement: 1\n",
      "\n"
     ]
    },
    {
     "name": "stderr",
     "output_type": "stream",
     "text": [
      "\n",
      " 48%|████▊     | 24/50 [2:26:08<2:38:22, 365.47s/it]\u001b[A"
     ]
    },
    {
     "name": "stdout",
     "output_type": "stream",
     "text": [
      "Current LR is  0.01\n",
      "TRAIN  Loss 0.29612658767700195\t Accuracy 0.89878\n",
      "VAL  Loss 0.3529298348903656\t Accuracy 0.8855\n",
      "\n",
      "Epochs since last improvement: 2\n",
      "\n"
     ]
    },
    {
     "name": "stderr",
     "output_type": "stream",
     "text": [
      "\n",
      " 50%|█████     | 25/50 [2:32:14<2:32:16, 365.46s/it]\u001b[A"
     ]
    },
    {
     "name": "stdout",
     "output_type": "stream",
     "text": [
      "Current LR is  0.01\n",
      "TRAIN  Loss 0.2878457746696472\t Accuracy 0.90102\n",
      "VAL  Loss 0.36503951060771944\t Accuracy 0.8782\n",
      "\n",
      "Epochs since last improvement: 3\n",
      "\n"
     ]
    },
    {
     "name": "stderr",
     "output_type": "stream",
     "text": [
      "\n",
      " 52%|█████▏    | 26/50 [2:38:19<2:26:08, 365.34s/it]\u001b[A"
     ]
    },
    {
     "name": "stdout",
     "output_type": "stream",
     "text": [
      "Current LR is  0.01\n",
      "TRAIN  Loss 0.28062846271038056\t Accuracy 0.90368\n",
      "VAL  Loss 0.28462540771961214\t Accuracy 0.9041\n"
     ]
    },
    {
     "name": "stderr",
     "output_type": "stream",
     "text": [
      "\n",
      " 54%|█████▍    | 27/50 [2:44:25<2:20:06, 365.50s/it]\u001b[A"
     ]
    },
    {
     "name": "stdout",
     "output_type": "stream",
     "text": [
      "Current LR is  0.01\n",
      "TRAIN  Loss 0.27507888873100284\t Accuracy 0.90644\n",
      "VAL  Loss 0.3146776859283447\t Accuracy 0.8979\n",
      "\n",
      "Epochs since last improvement: 1\n",
      "\n"
     ]
    },
    {
     "name": "stderr",
     "output_type": "stream",
     "text": [
      "\n",
      " 56%|█████▌    | 28/50 [2:50:30<2:14:00, 365.50s/it]\u001b[A"
     ]
    },
    {
     "name": "stdout",
     "output_type": "stream",
     "text": [
      "Current LR is  0.01\n",
      "TRAIN  Loss 0.2729045974779129\t Accuracy 0.9058\n",
      "VAL  Loss 0.29925764067173005\t Accuracy 0.9023\n",
      "\n",
      "Epochs since last improvement: 2\n",
      "\n"
     ]
    },
    {
     "name": "stderr",
     "output_type": "stream",
     "text": [
      "\n",
      " 58%|█████▊    | 29/50 [2:56:36<2:07:54, 365.47s/it]\u001b[A"
     ]
    },
    {
     "name": "stdout",
     "output_type": "stream",
     "text": [
      "Current LR is  0.01\n",
      "TRAIN  Loss 0.2631226969051361\t Accuracy 0.90928\n",
      "VAL  Loss 0.31250760419368745\t Accuracy 0.8937\n",
      "\n",
      "Epochs since last improvement: 3\n",
      "\n"
     ]
    },
    {
     "name": "stderr",
     "output_type": "stream",
     "text": [
      "\n",
      " 60%|██████    | 30/50 [3:02:41<2:01:46, 365.31s/it]\u001b[A"
     ]
    },
    {
     "name": "stdout",
     "output_type": "stream",
     "text": [
      "Current LR is  0.01\n",
      "TRAIN  Loss 0.2549266064453125\t Accuracy 0.91216\n",
      "VAL  Loss 0.3257988083600998\t Accuracy 0.8955\n",
      "\n",
      "Epochs since last improvement: 4\n",
      "\n"
     ]
    },
    {
     "name": "stderr",
     "output_type": "stream",
     "text": [
      "\n",
      " 62%|██████▏   | 31/50 [3:08:46<1:55:41, 365.33s/it]\u001b[A"
     ]
    },
    {
     "name": "stdout",
     "output_type": "stream",
     "text": [
      "Current LR is  0.01\n",
      "TRAIN  Loss 0.2612184564304352\t Accuracy 0.91074\n",
      "VAL  Loss 0.3006699100971222\t Accuracy 0.8993\n",
      "Epoch    31: reducing learning rate of group 0 to 1.0000e-03.\n",
      "\n",
      "Epochs since last improvement: 5\n",
      "\n"
     ]
    },
    {
     "name": "stderr",
     "output_type": "stream",
     "text": [
      "\n",
      " 64%|██████▍   | 32/50 [3:14:52<1:49:37, 365.39s/it]\u001b[A"
     ]
    },
    {
     "name": "stdout",
     "output_type": "stream",
     "text": [
      "Current LR is  0.001\n",
      "TRAIN  Loss 0.1821836440372467\t Accuracy 0.93924\n",
      "VAL  Loss 0.23536894280910492\t Accuracy 0.9201\n"
     ]
    },
    {
     "name": "stderr",
     "output_type": "stream",
     "text": [
      "\n",
      " 66%|██████▌   | 33/50 [3:20:57<1:43:32, 365.46s/it]\u001b[A"
     ]
    },
    {
     "name": "stdout",
     "output_type": "stream",
     "text": [
      "Current LR is  0.001\n",
      "TRAIN  Loss 0.16456434574365617\t Accuracy 0.94488\n",
      "VAL  Loss 0.23777775766849518\t Accuracy 0.9201\n",
      "\n",
      "Epochs since last improvement: 1\n",
      "\n"
     ]
    },
    {
     "name": "stderr",
     "output_type": "stream",
     "text": [
      "\n",
      " 68%|██████▊   | 34/50 [3:27:02<1:37:23, 365.20s/it]\u001b[A"
     ]
    },
    {
     "name": "stdout",
     "output_type": "stream",
     "text": [
      "Current LR is  0.001\n",
      "TRAIN  Loss 0.1522215092754364\t Accuracy 0.94894\n",
      "VAL  Loss 0.23728807649612427\t Accuracy 0.9219\n",
      "\n",
      "Epochs since last improvement: 2\n",
      "\n"
     ]
    },
    {
     "name": "stderr",
     "output_type": "stream",
     "text": [
      "\n",
      " 70%|███████   | 35/50 [3:33:06<1:31:14, 364.96s/it]\u001b[A"
     ]
    },
    {
     "name": "stdout",
     "output_type": "stream",
     "text": [
      "Current LR is  0.001\n",
      "TRAIN  Loss 0.1471308104467392\t Accuracy 0.95038\n",
      "VAL  Loss 0.2347320232629776\t Accuracy 0.9227\n"
     ]
    },
    {
     "name": "stderr",
     "output_type": "stream",
     "text": [
      "\n",
      " 72%|███████▏  | 36/50 [3:39:12<1:25:12, 365.17s/it]\u001b[A"
     ]
    },
    {
     "name": "stdout",
     "output_type": "stream",
     "text": [
      "Current LR is  0.001\n",
      "TRAIN  Loss 0.1423280283641815\t Accuracy 0.95162\n",
      "VAL  Loss 0.2366197547197342\t Accuracy 0.923\n",
      "\n",
      "Epochs since last improvement: 1\n",
      "\n"
     ]
    },
    {
     "name": "stderr",
     "output_type": "stream",
     "text": [
      "\n",
      " 74%|███████▍  | 37/50 [3:45:17<1:19:05, 365.04s/it]\u001b[A"
     ]
    },
    {
     "name": "stdout",
     "output_type": "stream",
     "text": [
      "Current LR is  0.001\n",
      "TRAIN  Loss 0.13765243270397187\t Accuracy 0.95226\n",
      "VAL  Loss 0.23777011692523956\t Accuracy 0.9243\n",
      "\n",
      "Epochs since last improvement: 2\n",
      "\n"
     ]
    },
    {
     "name": "stderr",
     "output_type": "stream",
     "text": [
      "\n",
      " 76%|███████▌  | 38/50 [3:51:21<1:12:58, 364.89s/it]\u001b[A"
     ]
    },
    {
     "name": "stdout",
     "output_type": "stream",
     "text": [
      "Current LR is  0.001\n",
      "TRAIN  Loss 0.12898464656114578\t Accuracy 0.95642\n",
      "VAL  Loss 0.23568562071323396\t Accuracy 0.9258\n",
      "\n",
      "Epochs since last improvement: 3\n",
      "\n"
     ]
    },
    {
     "name": "stderr",
     "output_type": "stream",
     "text": [
      "\n",
      " 78%|███████▊  | 39/50 [3:57:26<1:06:52, 364.79s/it]\u001b[A"
     ]
    },
    {
     "name": "stdout",
     "output_type": "stream",
     "text": [
      "Current LR is  0.001\n",
      "TRAIN  Loss 0.13218916611194612\t Accuracy 0.9541\n",
      "VAL  Loss 0.23160878009796143\t Accuracy 0.9269\n"
     ]
    },
    {
     "name": "stderr",
     "output_type": "stream",
     "text": [
      "\n",
      " 80%|████████  | 40/50 [4:03:30<1:00:47, 364.75s/it]\u001b[A"
     ]
    },
    {
     "name": "stdout",
     "output_type": "stream",
     "text": [
      "Current LR is  0.001\n",
      "TRAIN  Loss 0.12818688903808595\t Accuracy 0.9561\n",
      "VAL  Loss 0.23795713610649108\t Accuracy 0.9253\n",
      "\n",
      "Epochs since last improvement: 1\n",
      "\n"
     ]
    },
    {
     "name": "stderr",
     "output_type": "stream",
     "text": [
      "\n",
      " 82%|████████▏ | 41/50 [4:09:34<54:41, 364.58s/it]  \u001b[A"
     ]
    },
    {
     "name": "stdout",
     "output_type": "stream",
     "text": [
      "Current LR is  0.001\n",
      "TRAIN  Loss 0.1257792422580719\t Accuracy 0.95588\n",
      "VAL  Loss 0.24294707012176514\t Accuracy 0.9237\n",
      "\n",
      "Epochs since last improvement: 2\n",
      "\n"
     ]
    },
    {
     "name": "stderr",
     "output_type": "stream",
     "text": [
      "\n",
      " 84%|████████▍ | 42/50 [4:15:39<48:36, 364.52s/it]\u001b[A"
     ]
    },
    {
     "name": "stdout",
     "output_type": "stream",
     "text": [
      "Current LR is  0.001\n",
      "TRAIN  Loss 0.12295655189037323\t Accuracy 0.95872\n",
      "VAL  Loss 0.24093882796764374\t Accuracy 0.9237\n",
      "\n",
      "Epochs since last improvement: 3\n",
      "\n"
     ]
    },
    {
     "name": "stderr",
     "output_type": "stream",
     "text": [
      "\n",
      " 86%|████████▌ | 43/50 [4:21:43<42:30, 364.36s/it]\u001b[A"
     ]
    },
    {
     "name": "stdout",
     "output_type": "stream",
     "text": [
      "Current LR is  0.001\n",
      "TRAIN  Loss 0.11859927082061768\t Accuracy 0.95908\n",
      "VAL  Loss 0.2365607542514801\t Accuracy 0.9274\n",
      "\n",
      "Epochs since last improvement: 4\n",
      "\n"
     ]
    },
    {
     "name": "stderr",
     "output_type": "stream",
     "text": [
      "\n",
      " 88%|████████▊ | 44/50 [4:27:47<36:25, 364.32s/it]\u001b[A"
     ]
    },
    {
     "name": "stdout",
     "output_type": "stream",
     "text": [
      "Current LR is  0.001\n",
      "TRAIN  Loss 0.11999890264511108\t Accuracy 0.95852\n",
      "VAL  Loss 0.24487603776454925\t Accuracy 0.9252\n",
      "Epoch    44: reducing learning rate of group 0 to 1.0000e-04.\n",
      "\n",
      "Epochs since last improvement: 5\n",
      "\n"
     ]
    },
    {
     "name": "stderr",
     "output_type": "stream",
     "text": [
      "\n",
      " 90%|█████████ | 45/50 [4:33:51<30:21, 364.21s/it]\u001b[A"
     ]
    },
    {
     "name": "stdout",
     "output_type": "stream",
     "text": [
      "Current LR is  0.0001\n",
      "TRAIN  Loss 0.10908328997135162\t Accuracy 0.96254\n",
      "VAL  Loss 0.24103214616775512\t Accuracy 0.927\n",
      "\n",
      "Epochs since last improvement: 6\n",
      "\n"
     ]
    },
    {
     "name": "stderr",
     "output_type": "stream",
     "text": [
      "\n",
      " 92%|█████████▏| 46/50 [4:39:55<24:16, 364.09s/it]\u001b[A"
     ]
    },
    {
     "name": "stdout",
     "output_type": "stream",
     "text": [
      "Current LR is  0.0001\n",
      "TRAIN  Loss 0.10957612010002137\t Accuracy 0.96252\n",
      "VAL  Loss 0.23976302518844606\t Accuracy 0.9269\n",
      "\n",
      "Epochs since last improvement: 7\n",
      "\n"
     ]
    },
    {
     "name": "stderr",
     "output_type": "stream",
     "text": [
      "\n",
      " 94%|█████████▍| 47/50 [4:45:58<18:11, 363.95s/it]\u001b[A"
     ]
    },
    {
     "name": "stdout",
     "output_type": "stream",
     "text": [
      "Current LR is  0.0001\n",
      "TRAIN  Loss 0.10702463733673095\t Accuracy 0.9638\n",
      "VAL  Loss 0.24215915520191192\t Accuracy 0.9261\n",
      "\n",
      "Epochs since last improvement: 8\n",
      "\n"
     ]
    },
    {
     "name": "stderr",
     "output_type": "stream",
     "text": [
      "\n",
      " 96%|█████████▌| 48/50 [4:52:02<12:07, 363.81s/it]\u001b[A"
     ]
    },
    {
     "name": "stdout",
     "output_type": "stream",
     "text": [
      "Current LR is  0.0001\n",
      "TRAIN  Loss 0.10551263258457184\t Accuracy 0.96406\n",
      "VAL  Loss 0.24165199716091157\t Accuracy 0.9266\n",
      "\n",
      "Epochs since last improvement: 9\n",
      "\n"
     ]
    },
    {
     "name": "stderr",
     "output_type": "stream",
     "text": [
      "\n",
      " 98%|█████████▊| 49/50 [4:58:07<06:04, 364.26s/it]\u001b[A"
     ]
    },
    {
     "name": "stdout",
     "output_type": "stream",
     "text": [
      "Current LR is  0.0001\n",
      "TRAIN  Loss 0.10766995559215546\t Accuracy 0.96372\n",
      "VAL  Loss 0.24088586525917052\t Accuracy 0.9269\n",
      "Epoch    49: reducing learning rate of group 0 to 1.0000e-05.\n",
      "\n",
      "Epochs since last improvement: 10\n",
      "\n"
     ]
    },
    {
     "name": "stderr",
     "output_type": "stream",
     "text": [
      "\n",
      "100%|██████████| 50/50 [5:04:13<00:00, 364.58s/it]\u001b[A\n",
      "\u001b[A"
     ]
    }
   ],
   "source": [
    "model = main(epochs=epochs)"
   ]
  },
  {
   "cell_type": "markdown",
   "metadata": {
    "colab_type": "text",
    "id": "8xTrT9ZsW3tl"
   },
   "source": [
    "## Per Class Accuracy"
   ]
  },
  {
   "cell_type": "code",
   "execution_count": 0,
   "metadata": {
    "colab": {
     "base_uri": "https://localhost:8080/",
     "height": 295
    },
    "colab_type": "code",
    "id": "o_doCBc95tsc",
    "outputId": "3e708a4d-5a9f-4617-c07f-efd1e69c3172"
   },
   "outputs": [
    {
     "name": "stderr",
     "output_type": "stream",
     "text": [
      "\n",
      "0it [00:00, ?it/s]\u001b[A\n",
      "\u001b[A"
     ]
    },
    {
     "name": "stdout",
     "output_type": "stream",
     "text": [
      "\n",
      "Loaded checkpoint from epoch 40. Best loss so far is 0.232.\n",
      "\n",
      "airplane :- 94.3 %\n",
      "automobile :- 97.4 %\n",
      "bird :- 89.8 %\n",
      "cat :- 86.7 %\n",
      "deer :- 91.4 %\n",
      "dog :- 88.0 %\n",
      "frog :- 93.2 %\n",
      "horse :- 93.7 %\n",
      "ship :- 97.0 %\n",
      "truck :- 95.4 %\n",
      "total acc is 92.69%\n"
     ]
    }
   ],
   "source": [
    "## load the model\n",
    "@no_grad\n",
    "def perClassAccuracy(model , classes):\n",
    "  model = main(epochs=0)\n",
    "  class_correct = np.zeros(len(classes) ,dtype =np.int64 )\n",
    "  class_total = np.zeros_like(class_correct,dtype =np.int64 )\n",
    "  model.eval()\n",
    "  \n",
    "  for data ,target in valLoader:\n",
    "    data,target =data.to(device) , target.to(device)\n",
    "    output =model(data)\n",
    "    preds = torch.argmax(output,1)\n",
    "    for prediction , label in zip(preds , target.data):\n",
    "      if prediction == label:\n",
    "        class_correct[prediction]+=1\n",
    "      class_total[label]+=1\n",
    "  per = np.round((100*class_correct/class_total) ,4)\n",
    "  out = \"\\n\".join([f\"{name} :- {acc} %\" for name ,acc in zip(classes , per)])\n",
    "  return out+\"\\ntotal acc is {0}%\".format(100* sum(class_correct)/sum(class_total))\n",
    "\n",
    "print(perClassAccuracy(model , trainset.classes))"
   ]
  },
  {
   "cell_type": "markdown",
   "metadata": {
    "colab_type": "text",
    "id": "DPta6_MMYITo"
   },
   "source": [
    "## Intermediate Result :- 92.69 % Accuracy"
   ]
  },
  {
   "cell_type": "markdown",
   "metadata": {
    "colab_type": "text",
    "id": "6Po0AJizYZiQ"
   },
   "source": [
    "## Visualizing the wrong prediction and where exactly model is confused"
   ]
  },
  {
   "cell_type": "code",
   "execution_count": 0,
   "metadata": {
    "colab": {
     "base_uri": "https://localhost:8080/",
     "height": 104
    },
    "colab_type": "code",
    "id": "DgKZUIg5XEIE",
    "outputId": "2827cab5-098d-4ff9-a73d-1362685768a2"
   },
   "outputs": [
    {
     "name": "stderr",
     "output_type": "stream",
     "text": [
      "\n",
      "0it [00:00, ?it/s]\u001b[A\n",
      "\u001b[A"
     ]
    },
    {
     "name": "stdout",
     "output_type": "stream",
     "text": [
      "\n",
      "Loaded checkpoint from epoch 40. Best loss so far is 0.232.\n",
      "\n"
     ]
    }
   ],
   "source": [
    "## load the model\n",
    "model = main(epochs=0)\n",
    "@no_grad\n",
    "def allwrong_prediction(classes ,model):\n",
    "  test_array =[]\n",
    "  model.eval()\n",
    "  for data ,target in valLoader:\n",
    "    data,target =data.to(device) , target.to(device)\n",
    "    output =model(data)\n",
    "    preds = torch.argmax(output,1)\n",
    "    for prediction , label in zip(preds , target.data):\n",
    "      if prediction != label:\n",
    "          test_array.append([data ,classes[prediction] ,classes[label]])\n",
    "  return test_array\n",
    "\n",
    "s = allwrong_prediction(trainset.classes , model)"
   ]
  },
  {
   "cell_type": "code",
   "execution_count": 0,
   "metadata": {
    "colab": {
     "base_uri": "https://localhost:8080/",
     "height": 661
    },
    "colab_type": "code",
    "id": "hFkM6VKsYsSR",
    "outputId": "5c7916d0-e2d6-4632-da0e-ec5c0c9752d2"
   },
   "outputs": [
    {
     "data": {
      "text/plain": [
       "<matplotlib.axes._subplots.AxesSubplot at 0x7f4e9a465c50>"
      ]
     },
     "execution_count": 24,
     "metadata": {
      "tags": []
     },
     "output_type": "execute_result"
    },
    {
     "data": {
      "image/png": "[encoded data removed]",
      "text/plain": [
       "<Figure size 1440x720 with 1 Axes>"
      ]
     },
     "metadata": {
      "tags": []
     },
     "output_type": "display_data"
    }
   ],
   "source": [
    "s_d = [(y,z) for x ,y,z in s]\n",
    "df = pd.DataFrame(s_d)\n",
    "gr = df.groupby([0,1])\n",
    "gr.apply(len).unstack().plot(kind='bar', stacked=True, figsize=(20,10))"
   ]
  },
  {
   "cell_type": "markdown",
   "metadata": {
    "colab_type": "text",
    "id": "xXOZTOFwZnrF"
   },
   "source": [
    "## Inferencing Graph\n",
    " Model is confused between airplane,ship,bird"
   ]
  },
  {
   "cell_type": "markdown",
   "metadata": {
    "colab_type": "text",
    "id": "bUz1APqvMVvy"
   },
   "source": [
    "## plot confusion matrix\n"
   ]
  },
  {
   "cell_type": "code",
   "execution_count": 0,
   "metadata": {
    "colab": {
     "base_uri": "https://localhost:8080/",
     "height": 208
    },
    "colab_type": "code",
    "id": "T-XRgz4Yj-uI",
    "outputId": "4fbe34e9-6c4d-4481-90b1-41db82e30515"
   },
   "outputs": [
    {
     "name": "stderr",
     "output_type": "stream",
     "text": [
      "\n",
      "\n",
      "\n",
      "\n",
      "0it [00:00, ?it/s]\u001b[A\u001b[A\u001b[A\u001b[A\n",
      "\n",
      "\n",
      "\n",
      "\u001b[A\u001b[A\u001b[A\u001b[A"
     ]
    },
    {
     "name": "stdout",
     "output_type": "stream",
     "text": [
      "\n",
      "Loaded checkpoint from epoch 47. Best loss so far is 0.227.\n",
      "\n"
     ]
    }
   ],
   "source": [
    "from sklearn.metrics import classification_report, confusion_matrix\n",
    "model = main(0)\n",
    "pred = []\n",
    "la=[]\n",
    "with torch.no_grad():\n",
    "  for image , label in valLoader:\n",
    "    image , label = image.to(device) , label.to(device)\n",
    "    output = model(image)\n",
    "    output = F.softmax(output,dim=1)\n",
    "    preds = torch.argmax(output,dim=1)\n",
    "    pred.extend(preds.clone().detach().cpu().tolist())\n",
    "    la.extend(label.clone().detach().cpu().tolist())\n"
   ]
  },
  {
   "cell_type": "code",
   "execution_count": 0,
   "metadata": {
    "colab": {
     "base_uri": "https://localhost:8080/",
     "height": 449
    },
    "colab_type": "code",
    "id": "d1MalEP7kPYr",
    "outputId": "412c4cfe-be3c-49e5-bda2-24205478644b"
   },
   "outputs": [
    {
     "data": {
      "text/plain": [
       "<matplotlib.axes._subplots.AxesSubplot at 0x7f282b8b8be0>"
      ]
     },
     "execution_count": 45,
     "metadata": {
      "tags": []
     },
     "output_type": "execute_result"
    },
    {
     "data": {
      "image/png": "[encoded data removed]",
      "text/plain": [
       "<Figure size 720x504 with 2 Axes>"
      ]
     },
     "metadata": {
      "tags": []
     },
     "output_type": "display_data"
    }
   ],
   "source": [
    "cm = confusion_matrix(la,\n",
    "                      pred)\n",
    " \n",
    "# Visualizing of confusion matrix\n",
    "import seaborn as sn\n",
    " \n",
    "df_cm = pd.DataFrame(cm, range(10),\n",
    "                  range(10))\n",
    "plt.figure(figsize = (10,7))\n",
    "sn.set(font_scale=1.4)#for label size\n",
    "sn.heatmap(df_cm, annot=True,annot_kws={\"size\": 12})# font size"
   ]
  },
  {
   "cell_type": "markdown",
   "metadata": {
    "colab_type": "text",
    "id": "EGiNpENNmF2J"
   },
   "source": [
    "## The END"
   ]
  },
  {
   "cell_type": "code",
   "execution_count": null,
   "metadata": {},
   "outputs": [],
   "source": []
  }
 ],
 "metadata": {
  "accelerator": "GPU",
  "colab": {
   "collapsed_sections": [],
   "name": "Inkers Assisgnment",
   "provenance": [],
   "version": "0.3.2"
  },
  "kernelspec": {
   "display_name": "Python 3",
   "language": "python",
   "name": "python3"
  },
  "language_info": {
   "codemirror_mode": {
    "name": "ipython",
    "version": 3
   },
   "file_extension": ".py",
   "mimetype": "text/x-python",
   "name": "python",
   "nbconvert_exporter": "python",
   "pygments_lexer": "ipython3",
   "version": "3.6.8"
  },
  "toc": {
   "base_numbering": 1,
   "nav_menu": {},
   "number_sections": true,
   "sideBar": true,
   "skip_h1_title": false,
   "title_cell": "Table of Contents",
   "title_sidebar": "Contents",
   "toc_cell": false,
   "toc_position": {},
   "toc_section_display": true,
   "toc_window_display": true
  }
 },
 "nbformat": 4,
 "nbformat_minor": 1
}
